{
 "cells": [
  {
   "cell_type": "markdown",
   "metadata": {},
   "source": [
    "# Sección 2. Entendimiento y Preparación de los datos"
   ]
  },
  {
   "cell_type": "markdown",
   "metadata": {},
   "source": [
    "Esta sección tiene como propósito exponer el entendimiento y la preparación de los textos para posteriormente utilizarlos en la implementación de los modelos de aprendizaje. Para la manipulación de los datos se usarán librerias como **pandas** y **numpy**. Para la visualización se utilizarán **matplotlib**, **seaborn** y **WordCloud**."
   ]
  },
  {
   "cell_type": "markdown",
   "metadata": {},
   "source": [
    "## 1. Instalación e importación de librerias"
   ]
  },
  {
   "cell_type": "markdown",
   "metadata": {},
   "source": [
    "### Instalación"
   ]
  },
  {
   "cell_type": "code",
   "execution_count": 9,
   "metadata": {},
   "outputs": [],
   "source": [
    "#%pip install pandas numpy matplotlib seaborn scikit-learn nltk spacy wordcloud tqdm\n",
    "#%pip install spacy-langdetect\n",
    "#!python -m spacy download es_core_news_sm\n",
    "#%pip install tensorflow\n",
    "#%pip install keras\n",
    "#!pip install wordcloud\n",
    "#!pip install spacy-langdetect\n",
    "#!python -m spacy download es_core_news_sm\n",
    "#!pip install tensorflow\n",
    "#!pip install keras\n",
    "#!pip install spacy"
   ]
  },
  {
   "cell_type": "code",
   "execution_count": 10,
   "metadata": {},
   "outputs": [
    {
     "name": "stderr",
     "output_type": "stream",
     "text": [
      "[nltk_data] Downloading package stopwords to\n",
      "[nltk_data]     C:\\Users\\mgs05\\AppData\\Roaming\\nltk_data...\n",
      "[nltk_data]   Package stopwords is already up-to-date!\n"
     ]
    }
   ],
   "source": [
    "# Manipulación de datos\n",
    "import pandas as pd\n",
    "import numpy as np\n",
    "\n",
    "# Visualización\n",
    "import matplotlib.pyplot as plt\n",
    "import seaborn as sns\n",
    "from wordcloud import WordCloud\n",
    "\n",
    "# Procesamiento de texto\n",
    "import re\n",
    "import string\n",
    "import spacy\n",
    "from spacy_langdetect import LanguageDetector\n",
    "import re\n",
    "import unicodedata\n",
    "\n",
    "import nltk\n",
    "from nltk.stem import SnowballStemmer, WordNetLemmatizer\n",
    "from nltk.corpus import wordnet\n",
    "from nltk.corpus import stopwords\n",
    "\n",
    "# Modelado y evaluación\n",
    "from sklearn.model_selection import train_test_split\n",
    "from sklearn.feature_extraction.text import TfidfVectorizer, CountVectorizer\n",
    "from sklearn.naive_bayes import MultinomialNB\n",
    "from sklearn.linear_model import LogisticRegression\n",
    "from sklearn.ensemble import RandomForestClassifier\n",
    "from sklearn.metrics import accuracy_score, classification_report, confusion_matrix, recall_score, precision_score, f1_score, ConfusionMatrixDisplay,precision_recall_curve\n",
    "from sklearn.tree import DecisionTreeClassifier\n",
    "\n",
    "# Progreso en bucles\n",
    "from tqdm import tqdm\n",
    "\n",
    "from collections import Counter\n",
    "#from ydata_profiling import ProfileReport\n",
    "from scipy.sparse import hstack\n",
    "\n",
    "import numpy as np\n",
    "\n",
    "# Tensor flow para redes neuronales\n",
    "import tensorflow as tf\n",
    "from tensorflow import keras\n",
    "\n",
    "\n",
    "# Cargar modelo en español de spaCy\n",
    "nlp = spacy.load(\"es_core_news_sm\")\n",
    "\n",
    "# Descargar stopwords de NLTK en español\n",
    "nltk.download('stopwords')\n",
    "stopwords_es = set(stopwords.words('spanish'))\n",
    "\n",
    "# Configuración de visualización\n",
    "sns.set_style(\"whitegrid\")\n",
    "plt.rcParams[\"figure.figsize\"] = (10,5)\n"
   ]
  },
  {
   "cell_type": "markdown",
   "metadata": {},
   "source": [
    "## 2. Perfilamiento y entendimiento de los datos"
   ]
  },
  {
   "cell_type": "markdown",
   "metadata": {},
   "source": [
    "### Lectura de los datos"
   ]
  },
  {
   "cell_type": "markdown",
   "metadata": {},
   "source": [
    "Procedemos a cargar los datos y a revisar su estructura."
   ]
  },
  {
   "cell_type": "code",
   "execution_count": 11,
   "metadata": {},
   "outputs": [],
   "source": [
    "# Cargar datos\n",
    "data=pd.read_csv('fake_news_spanish.csv', sep=';', encoding = \"utf-8\")\n",
    "\n",
    "news_df = data.copy()"
   ]
  },
  {
   "cell_type": "code",
   "execution_count": 12,
   "metadata": {},
   "outputs": [
    {
     "name": "stdout",
     "output_type": "stream",
     "text": [
      "<class 'pandas.core.frame.DataFrame'>\n",
      "RangeIndex: 57063 entries, 0 to 57062\n",
      "Data columns (total 5 columns):\n",
      " #   Column       Non-Null Count  Dtype \n",
      "---  ------       --------------  ----- \n",
      " 0   ID           57063 non-null  object\n",
      " 1   Label        57063 non-null  int64 \n",
      " 2   Titulo       57047 non-null  object\n",
      " 3   Descripcion  57063 non-null  object\n",
      " 4   Fecha        57063 non-null  object\n",
      "dtypes: int64(1), object(4)\n",
      "memory usage: 2.2+ MB\n"
     ]
    }
   ],
   "source": [
    "news_df.info()  "
   ]
  },
  {
   "cell_type": "code",
   "execution_count": 13,
   "metadata": {},
   "outputs": [
    {
     "data": {
      "text/html": [
       "<div>\n",
       "<style scoped>\n",
       "    .dataframe tbody tr th:only-of-type {\n",
       "        vertical-align: middle;\n",
       "    }\n",
       "\n",
       "    .dataframe tbody tr th {\n",
       "        vertical-align: top;\n",
       "    }\n",
       "\n",
       "    .dataframe thead th {\n",
       "        text-align: right;\n",
       "    }\n",
       "</style>\n",
       "<table border=\"1\" class=\"dataframe\">\n",
       "  <thead>\n",
       "    <tr style=\"text-align: right;\">\n",
       "      <th></th>\n",
       "      <th>ID</th>\n",
       "      <th>Label</th>\n",
       "      <th>Titulo</th>\n",
       "      <th>Descripcion</th>\n",
       "      <th>Fecha</th>\n",
       "    </tr>\n",
       "  </thead>\n",
       "  <tbody>\n",
       "    <tr>\n",
       "      <th>0</th>\n",
       "      <td>ID</td>\n",
       "      <td>1</td>\n",
       "      <td>'The Guardian' va con Sánchez: 'Europa necesit...</td>\n",
       "      <td>El diario británico publicó este pasado jueves...</td>\n",
       "      <td>02/06/2023</td>\n",
       "    </tr>\n",
       "    <tr>\n",
       "      <th>1</th>\n",
       "      <td>ID</td>\n",
       "      <td>0</td>\n",
       "      <td>REVELAN QUE EL GOBIERNO NEGOCIO LA LIBERACIÓN ...</td>\n",
       "      <td>REVELAN QUE EL GOBIERNO NEGOCIO LA LIBERACIÓN ...</td>\n",
       "      <td>01/10/2023</td>\n",
       "    </tr>\n",
       "    <tr>\n",
       "      <th>2</th>\n",
       "      <td>ID</td>\n",
       "      <td>1</td>\n",
       "      <td>El 'Ahora o nunca' de Joan Fuster sobre el est...</td>\n",
       "      <td>El valencianismo convoca en Castelló su fiesta...</td>\n",
       "      <td>25/04/2022</td>\n",
       "    </tr>\n",
       "    <tr>\n",
       "      <th>3</th>\n",
       "      <td>ID</td>\n",
       "      <td>1</td>\n",
       "      <td>Iglesias alienta a Yolanda Díaz, ERC y EH Bild...</td>\n",
       "      <td>En política, igual que hay que negociar con lo...</td>\n",
       "      <td>03/01/2022</td>\n",
       "    </tr>\n",
       "    <tr>\n",
       "      <th>4</th>\n",
       "      <td>ID</td>\n",
       "      <td>0</td>\n",
       "      <td>Puigdemont: 'No sería ninguna tragedia una rep...</td>\n",
       "      <td>En una entrevista en El Punt Avui, el líder de...</td>\n",
       "      <td>09/03/2018</td>\n",
       "    </tr>\n",
       "  </tbody>\n",
       "</table>\n",
       "</div>"
      ],
      "text/plain": [
       "   ID  Label                                             Titulo  \\\n",
       "0  ID      1  'The Guardian' va con Sánchez: 'Europa necesit...   \n",
       "1  ID      0  REVELAN QUE EL GOBIERNO NEGOCIO LA LIBERACIÓN ...   \n",
       "2  ID      1  El 'Ahora o nunca' de Joan Fuster sobre el est...   \n",
       "3  ID      1  Iglesias alienta a Yolanda Díaz, ERC y EH Bild...   \n",
       "4  ID      0  Puigdemont: 'No sería ninguna tragedia una rep...   \n",
       "\n",
       "                                         Descripcion       Fecha  \n",
       "0  El diario británico publicó este pasado jueves...  02/06/2023  \n",
       "1  REVELAN QUE EL GOBIERNO NEGOCIO LA LIBERACIÓN ...  01/10/2023  \n",
       "2  El valencianismo convoca en Castelló su fiesta...  25/04/2022  \n",
       "3  En política, igual que hay que negociar con lo...  03/01/2022  \n",
       "4  En una entrevista en El Punt Avui, el líder de...  09/03/2018  "
      ]
     },
     "execution_count": 13,
     "metadata": {},
     "output_type": "execute_result"
    }
   ],
   "source": [
    "news_df.head()"
   ]
  },
  {
   "cell_type": "markdown",
   "metadata": {},
   "source": [
    "Entendemos entonces, que tenemos una variable objetivo llamada *'Label'* la cual determina si una historia es falsa o no. Adicionalmente, identificamos otras variables como el *'Titulo'* de la historia y su *'Descripción'*. Adicionalmente, la *'Fecha'* es probablemente la fecha de publicación. "
   ]
  },
  {
   "cell_type": "markdown",
   "metadata": {},
   "source": [
    "### Entendimiento de los Datos"
   ]
  },
  {
   "cell_type": "markdown",
   "metadata": {},
   "source": [
    "#### Estadísticas descriptivas"
   ]
  },
  {
   "cell_type": "markdown",
   "metadata": {},
   "source": [
    "El entendimiento de los datos consiste en analizar las estadísticas que describen nuestras variables. En este sentido, haremos un conteo preliminar de las palabras en el título de cada noticia, la moda, el mínimo y el máximo."
   ]
  },
  {
   "cell_type": "code",
   "execution_count": 14,
   "metadata": {},
   "outputs": [
    {
     "data": {
      "text/html": [
       "<div>\n",
       "<style scoped>\n",
       "    .dataframe tbody tr th:only-of-type {\n",
       "        vertical-align: middle;\n",
       "    }\n",
       "\n",
       "    .dataframe tbody tr th {\n",
       "        vertical-align: top;\n",
       "    }\n",
       "\n",
       "    .dataframe thead th {\n",
       "        text-align: right;\n",
       "    }\n",
       "</style>\n",
       "<table border=\"1\" class=\"dataframe\">\n",
       "  <thead>\n",
       "    <tr style=\"text-align: right;\">\n",
       "      <th></th>\n",
       "      <th>ID</th>\n",
       "      <th>Label</th>\n",
       "      <th>Titulo</th>\n",
       "      <th>Descripcion</th>\n",
       "      <th>Fecha</th>\n",
       "      <th>Conteo</th>\n",
       "      <th>Moda</th>\n",
       "      <th>Max</th>\n",
       "      <th>Min</th>\n",
       "    </tr>\n",
       "  </thead>\n",
       "  <tbody>\n",
       "    <tr>\n",
       "      <th>0</th>\n",
       "      <td>ID</td>\n",
       "      <td>1</td>\n",
       "      <td>'The Guardian' va con Sánchez: 'Europa necesit...</td>\n",
       "      <td>El diario británico publicó este pasado jueves...</td>\n",
       "      <td>02/06/2023</td>\n",
       "      <td>77</td>\n",
       "      <td>the</td>\n",
       "      <td>9</td>\n",
       "      <td>2</td>\n",
       "    </tr>\n",
       "    <tr>\n",
       "      <th>1</th>\n",
       "      <td>ID</td>\n",
       "      <td>0</td>\n",
       "      <td>REVELAN QUE EL GOBIERNO NEGOCIO LA LIBERACIÓN ...</td>\n",
       "      <td>REVELAN QUE EL GOBIERNO NEGOCIO LA LIBERACIÓN ...</td>\n",
       "      <td>01/10/2023</td>\n",
       "      <td>104</td>\n",
       "      <td>el</td>\n",
       "      <td>10</td>\n",
       "      <td>1</td>\n",
       "    </tr>\n",
       "    <tr>\n",
       "      <th>2</th>\n",
       "      <td>ID</td>\n",
       "      <td>1</td>\n",
       "      <td>El 'Ahora o nunca' de Joan Fuster sobre el est...</td>\n",
       "      <td>El valencianismo convoca en Castelló su fiesta...</td>\n",
       "      <td>25/04/2022</td>\n",
       "      <td>77</td>\n",
       "      <td>el</td>\n",
       "      <td>10</td>\n",
       "      <td>1</td>\n",
       "    </tr>\n",
       "    <tr>\n",
       "      <th>3</th>\n",
       "      <td>ID</td>\n",
       "      <td>1</td>\n",
       "      <td>Iglesias alienta a Yolanda Díaz, ERC y EH Bild...</td>\n",
       "      <td>En política, igual que hay que negociar con lo...</td>\n",
       "      <td>03/01/2022</td>\n",
       "      <td>110</td>\n",
       "      <td>a</td>\n",
       "      <td>12</td>\n",
       "      <td>1</td>\n",
       "    </tr>\n",
       "    <tr>\n",
       "      <th>4</th>\n",
       "      <td>ID</td>\n",
       "      <td>0</td>\n",
       "      <td>Puigdemont: 'No sería ninguna tragedia una rep...</td>\n",
       "      <td>En una entrevista en El Punt Avui, el líder de...</td>\n",
       "      <td>09/03/2018</td>\n",
       "      <td>72</td>\n",
       "      <td>puigdemont</td>\n",
       "      <td>11</td>\n",
       "      <td>2</td>\n",
       "    </tr>\n",
       "  </tbody>\n",
       "</table>\n",
       "</div>"
      ],
      "text/plain": [
       "   ID  Label                                             Titulo  \\\n",
       "0  ID      1  'The Guardian' va con Sánchez: 'Europa necesit...   \n",
       "1  ID      0  REVELAN QUE EL GOBIERNO NEGOCIO LA LIBERACIÓN ...   \n",
       "2  ID      1  El 'Ahora o nunca' de Joan Fuster sobre el est...   \n",
       "3  ID      1  Iglesias alienta a Yolanda Díaz, ERC y EH Bild...   \n",
       "4  ID      0  Puigdemont: 'No sería ninguna tragedia una rep...   \n",
       "\n",
       "                                         Descripcion       Fecha  Conteo  \\\n",
       "0  El diario británico publicó este pasado jueves...  02/06/2023      77   \n",
       "1  REVELAN QUE EL GOBIERNO NEGOCIO LA LIBERACIÓN ...  01/10/2023     104   \n",
       "2  El valencianismo convoca en Castelló su fiesta...  25/04/2022      77   \n",
       "3  En política, igual que hay que negociar con lo...  03/01/2022     110   \n",
       "4  En una entrevista en El Punt Avui, el líder de...  09/03/2018      72   \n",
       "\n",
       "         Moda  Max  Min  \n",
       "0         the    9    2  \n",
       "1          el   10    1  \n",
       "2          el   10    1  \n",
       "3           a   12    1  \n",
       "4  puigdemont   11    2  "
      ]
     },
     "execution_count": 14,
     "metadata": {},
     "output_type": "execute_result"
    }
   ],
   "source": [
    "news_df['Conteo'] = [len(str(x)) for x in news_df['Titulo']]\n",
    "news_df['Moda'] = [Counter([word.lower().strip(string.punctuation) for word in (str(i).split(' '))]).most_common()[0][0] for i in news_df['Titulo']]\n",
    "news_df['Max'] = [[max([len(x) for x in str(i).split(' ')])][0] for i in news_df['Titulo']]\n",
    "news_df['Min'] = [[min([len(x) for x in str(i).split(' ')])][0] for i in news_df['Titulo']]\n",
    "\n",
    "news_df.head()"
   ]
  },
  {
   "cell_type": "markdown",
   "metadata": {},
   "source": [
    "#### Perfilamiento de los datos"
   ]
  },
  {
   "cell_type": "markdown",
   "metadata": {},
   "source": [
    "En cuanto al perfilamiento de los datos, se hará uso de ydata profiling para ir aún más a fondo en los datos que buscamos describir."
   ]
  },
  {
   "cell_type": "code",
   "execution_count": 15,
   "metadata": {},
   "outputs": [],
   "source": [
    "##profile = ProfileReport(news_df, title=\"Pandas Profiling Report\")\n",
    "##profile"
   ]
  },
  {
   "cell_type": "markdown",
   "metadata": {},
   "source": [
    "Como podemos observar, debemos ser muy cuidadosos a la hora de analisar el tema de datos duplicados y demás estadísticas cuando manejamos datos de texto. Hacer una limpieza y preparar los datos vale la pena teniendo en cuenta que la mayoria de valores obtenidos se ven alterados por lo que denominaremos como ruido."
   ]
  },
  {
   "cell_type": "markdown",
   "metadata": {},
   "source": [
    "## 3. Preparación de los datos"
   ]
  },
  {
   "cell_type": "markdown",
   "metadata": {},
   "source": [
    "#### 3.1. Limpieza de datos.\n",
    "\n",
    "Este código implementa un proceso de preprocesamiento de texto para limpiar datos textuales antes de realizar análisis de texto o procesamiento de lenguaje natural.El preprocesamiento se aplica a dos columnas de un DataFrame (Titulo y Descripcion), generando nuevas columnas con los textos limpios (Titulo_Limpio y Descripcion_Limpia). Este paso es fundamental porque ayuda a reducir el ruido en los datos, mejora la precisión de los modelos y facilita la extracción de información relevante eliminando términos irrelevantes o redundantes.\n"
   ]
  },
  {
   "cell_type": "code",
   "execution_count": 16,
   "metadata": {},
   "outputs": [
    {
     "data": {
      "text/html": [
       "<div>\n",
       "<style scoped>\n",
       "    .dataframe tbody tr th:only-of-type {\n",
       "        vertical-align: middle;\n",
       "    }\n",
       "\n",
       "    .dataframe tbody tr th {\n",
       "        vertical-align: top;\n",
       "    }\n",
       "\n",
       "    .dataframe thead th {\n",
       "        text-align: right;\n",
       "    }\n",
       "</style>\n",
       "<table border=\"1\" class=\"dataframe\">\n",
       "  <thead>\n",
       "    <tr style=\"text-align: right;\">\n",
       "      <th></th>\n",
       "      <th>Label</th>\n",
       "      <th>Titulo</th>\n",
       "      <th>Descripcion</th>\n",
       "      <th>Titulo_Limpio</th>\n",
       "      <th>Descripcion_Limpia</th>\n",
       "    </tr>\n",
       "  </thead>\n",
       "  <tbody>\n",
       "    <tr>\n",
       "      <th>0</th>\n",
       "      <td>1</td>\n",
       "      <td>'The Guardian' va con Sánchez: 'Europa necesit...</td>\n",
       "      <td>El diario británico publicó este pasado jueves...</td>\n",
       "      <td>the guardian va sanchez europa necesita apuest...</td>\n",
       "      <td>diario britanico publico pasado jueves editori...</td>\n",
       "    </tr>\n",
       "    <tr>\n",
       "      <th>1</th>\n",
       "      <td>0</td>\n",
       "      <td>REVELAN QUE EL GOBIERNO NEGOCIO LA LIBERACIÓN ...</td>\n",
       "      <td>REVELAN QUE EL GOBIERNO NEGOCIO LA LIBERACIÓN ...</td>\n",
       "      <td>revelan gobierno negocio liberacion mireles ca...</td>\n",
       "      <td>revelan gobierno negocio liberacion mireles ca...</td>\n",
       "    </tr>\n",
       "    <tr>\n",
       "      <th>2</th>\n",
       "      <td>1</td>\n",
       "      <td>El 'Ahora o nunca' de Joan Fuster sobre el est...</td>\n",
       "      <td>El valencianismo convoca en Castelló su fiesta...</td>\n",
       "      <td>ahora nunca joan fuster estatuto valenciano cu...</td>\n",
       "      <td>valencianismo convoca castello fiesta grande c...</td>\n",
       "    </tr>\n",
       "    <tr>\n",
       "      <th>3</th>\n",
       "      <td>1</td>\n",
       "      <td>Iglesias alienta a Yolanda Díaz, ERC y EH Bild...</td>\n",
       "      <td>En política, igual que hay que negociar con lo...</td>\n",
       "      <td>iglesias alienta yolanda diaz erc eh bildu neg...</td>\n",
       "      <td>politica igual negociar empresarios negociar g...</td>\n",
       "    </tr>\n",
       "    <tr>\n",
       "      <th>4</th>\n",
       "      <td>0</td>\n",
       "      <td>Puigdemont: 'No sería ninguna tragedia una rep...</td>\n",
       "      <td>En una entrevista en El Punt Avui, el líder de...</td>\n",
       "      <td>puigdemont seria ninguna tragedia repeticion e...</td>\n",
       "      <td>entrevista punt avui lider jxcat desdramatizad...</td>\n",
       "    </tr>\n",
       "  </tbody>\n",
       "</table>\n",
       "</div>"
      ],
      "text/plain": [
       "   Label                                             Titulo  \\\n",
       "0      1  'The Guardian' va con Sánchez: 'Europa necesit...   \n",
       "1      0  REVELAN QUE EL GOBIERNO NEGOCIO LA LIBERACIÓN ...   \n",
       "2      1  El 'Ahora o nunca' de Joan Fuster sobre el est...   \n",
       "3      1  Iglesias alienta a Yolanda Díaz, ERC y EH Bild...   \n",
       "4      0  Puigdemont: 'No sería ninguna tragedia una rep...   \n",
       "\n",
       "                                         Descripcion  \\\n",
       "0  El diario británico publicó este pasado jueves...   \n",
       "1  REVELAN QUE EL GOBIERNO NEGOCIO LA LIBERACIÓN ...   \n",
       "2  El valencianismo convoca en Castelló su fiesta...   \n",
       "3  En política, igual que hay que negociar con lo...   \n",
       "4  En una entrevista en El Punt Avui, el líder de...   \n",
       "\n",
       "                                       Titulo_Limpio  \\\n",
       "0  the guardian va sanchez europa necesita apuest...   \n",
       "1  revelan gobierno negocio liberacion mireles ca...   \n",
       "2  ahora nunca joan fuster estatuto valenciano cu...   \n",
       "3  iglesias alienta yolanda diaz erc eh bildu neg...   \n",
       "4  puigdemont seria ninguna tragedia repeticion e...   \n",
       "\n",
       "                                  Descripcion_Limpia  \n",
       "0  diario britanico publico pasado jueves editori...  \n",
       "1  revelan gobierno negocio liberacion mireles ca...  \n",
       "2  valencianismo convoca castello fiesta grande c...  \n",
       "3  politica igual negociar empresarios negociar g...  \n",
       "4  entrevista punt avui lider jxcat desdramatizad...  "
      ]
     },
     "execution_count": 16,
     "metadata": {},
     "output_type": "execute_result"
    }
   ],
   "source": [
    "import nltk\n",
    "import unicodedata\n",
    "import re\n",
    "from nltk.tokenize import word_tokenize\n",
    "from nltk.corpus import stopwords\n",
    "\n",
    "news_df = news_df[[\"Label\", \"Titulo\", \"Descripcion\"]]\n",
    "\n",
    "# Funciones de preprocesamiento\n",
    "def remove_non_ascii(words):\n",
    "    \"\"\"Remueve caracteres no ASCII de una lista de palabras\"\"\"\n",
    "    return [unicodedata.normalize('NFKD', word).encode('ascii', 'ignore').decode('utf-8', 'ignore') for word in words if word]\n",
    "\n",
    "def to_lowercase(words):\n",
    "    \"\"\"Convierte todas las palabras a minúsculas\"\"\"\n",
    "    return [word.lower() for word in words if word]\n",
    "\n",
    "def remove_punctuation(words):\n",
    "    \"\"\"Elimina signos de puntuación\"\"\"\n",
    "    return [re.sub(r'[^\\w\\s]', '', word) for word in words if re.sub(r'[^\\w\\s]', '', word) != '']\n",
    "\n",
    "def remove_numbers(words):\n",
    "    \"\"\"Elimina los números de la lista de palabras\"\"\"\n",
    "    return [word for word in words if not word.isdigit()]\n",
    "\n",
    "def remove_stopwords(words):\n",
    "    \"\"\"Elimina stopwords en español\"\"\"\n",
    "    return [word for word in words if word not in stopwords_es]\n",
    "\n",
    "def preprocessing(text):\n",
    "    \"\"\"Aplica todas las funciones de limpieza de texto a un string\"\"\"\n",
    "    words = word_tokenize(text, language=\"spanish\")  # Tokenizar con NLTK\n",
    "    words = to_lowercase(words)\n",
    "    words = remove_non_ascii(words)\n",
    "    words = remove_punctuation(words)\n",
    "    words = remove_numbers(words)\n",
    "    words = remove_stopwords(words)\n",
    "    return \" \".join(words)  # Retorna el texto limpio como un string\n",
    "\n",
    "# Aplicar limpieza en el DataFrame\n",
    "news_df['Titulo_Limpio'] = news_df['Titulo'].astype(str).apply(preprocessing)\n",
    "news_df['Descripcion_Limpia'] = news_df['Descripcion'].astype(str).apply(preprocessing)\n",
    "\n",
    "# Comparación antes y después\n",
    "news_df.head()\n"
   ]
  },
  {
   "cell_type": "markdown",
   "metadata": {},
   "source": [
    "#### 3.2. Tokenización\n",
    "\n",
    "Este código realiza la tokenización de texto. Esta tokenización se aplica a las columnas ya limpias del DataFrame (Titulo_Limpio y Descripcion_Limpia), generando nuevas columnas Titulo_Tokens y Descripcion_Tokens, donde cada texto se representa como una lista de palabras. Este paso es crucial porque permite a los modelos de análisis de texto procesar los datos de manera estructurada.\n"
   ]
  },
  {
   "cell_type": "code",
   "execution_count": 17,
   "metadata": {},
   "outputs": [
    {
     "name": "stdout",
     "output_type": "stream",
     "text": [
      "Comparación después de la tokenización:\n"
     ]
    },
    {
     "data": {
      "text/html": [
       "<div>\n",
       "<style scoped>\n",
       "    .dataframe tbody tr th:only-of-type {\n",
       "        vertical-align: middle;\n",
       "    }\n",
       "\n",
       "    .dataframe tbody tr th {\n",
       "        vertical-align: top;\n",
       "    }\n",
       "\n",
       "    .dataframe thead th {\n",
       "        text-align: right;\n",
       "    }\n",
       "</style>\n",
       "<table border=\"1\" class=\"dataframe\">\n",
       "  <thead>\n",
       "    <tr style=\"text-align: right;\">\n",
       "      <th></th>\n",
       "      <th>Label</th>\n",
       "      <th>Titulo</th>\n",
       "      <th>Descripcion</th>\n",
       "      <th>Titulo_Limpio</th>\n",
       "      <th>Descripcion_Limpia</th>\n",
       "      <th>Titulo_Tokens</th>\n",
       "      <th>Descripcion_Tokens</th>\n",
       "    </tr>\n",
       "  </thead>\n",
       "  <tbody>\n",
       "    <tr>\n",
       "      <th>0</th>\n",
       "      <td>1</td>\n",
       "      <td>'The Guardian' va con Sánchez: 'Europa necesit...</td>\n",
       "      <td>El diario británico publicó este pasado jueves...</td>\n",
       "      <td>the guardian va sanchez europa necesita apuest...</td>\n",
       "      <td>diario britanico publico pasado jueves editori...</td>\n",
       "      <td>[the, guardian, va, sanchez, europa, necesita,...</td>\n",
       "      <td>[diario, britanico, publico, pasado, jueves, e...</td>\n",
       "    </tr>\n",
       "    <tr>\n",
       "      <th>1</th>\n",
       "      <td>0</td>\n",
       "      <td>REVELAN QUE EL GOBIERNO NEGOCIO LA LIBERACIÓN ...</td>\n",
       "      <td>REVELAN QUE EL GOBIERNO NEGOCIO LA LIBERACIÓN ...</td>\n",
       "      <td>revelan gobierno negocio liberacion mireles ca...</td>\n",
       "      <td>revelan gobierno negocio liberacion mireles ca...</td>\n",
       "      <td>[revelan, gobierno, negocio, liberacion, mirel...</td>\n",
       "      <td>[revelan, gobierno, negocio, liberacion, mirel...</td>\n",
       "    </tr>\n",
       "    <tr>\n",
       "      <th>2</th>\n",
       "      <td>1</td>\n",
       "      <td>El 'Ahora o nunca' de Joan Fuster sobre el est...</td>\n",
       "      <td>El valencianismo convoca en Castelló su fiesta...</td>\n",
       "      <td>ahora nunca joan fuster estatuto valenciano cu...</td>\n",
       "      <td>valencianismo convoca castello fiesta grande c...</td>\n",
       "      <td>[ahora, nunca, joan, fuster, estatuto, valenci...</td>\n",
       "      <td>[valencianismo, convoca, castello, fiesta, gra...</td>\n",
       "    </tr>\n",
       "    <tr>\n",
       "      <th>3</th>\n",
       "      <td>1</td>\n",
       "      <td>Iglesias alienta a Yolanda Díaz, ERC y EH Bild...</td>\n",
       "      <td>En política, igual que hay que negociar con lo...</td>\n",
       "      <td>iglesias alienta yolanda diaz erc eh bildu neg...</td>\n",
       "      <td>politica igual negociar empresarios negociar g...</td>\n",
       "      <td>[iglesias, alienta, yolanda, diaz, erc, eh, bi...</td>\n",
       "      <td>[politica, igual, negociar, empresarios, negoc...</td>\n",
       "    </tr>\n",
       "    <tr>\n",
       "      <th>4</th>\n",
       "      <td>0</td>\n",
       "      <td>Puigdemont: 'No sería ninguna tragedia una rep...</td>\n",
       "      <td>En una entrevista en El Punt Avui, el líder de...</td>\n",
       "      <td>puigdemont seria ninguna tragedia repeticion e...</td>\n",
       "      <td>entrevista punt avui lider jxcat desdramatizad...</td>\n",
       "      <td>[puigdemont, seria, ninguna, tragedia, repetic...</td>\n",
       "      <td>[entrevista, punt, avui, lider, jxcat, desdram...</td>\n",
       "    </tr>\n",
       "  </tbody>\n",
       "</table>\n",
       "</div>"
      ],
      "text/plain": [
       "   Label                                             Titulo  \\\n",
       "0      1  'The Guardian' va con Sánchez: 'Europa necesit...   \n",
       "1      0  REVELAN QUE EL GOBIERNO NEGOCIO LA LIBERACIÓN ...   \n",
       "2      1  El 'Ahora o nunca' de Joan Fuster sobre el est...   \n",
       "3      1  Iglesias alienta a Yolanda Díaz, ERC y EH Bild...   \n",
       "4      0  Puigdemont: 'No sería ninguna tragedia una rep...   \n",
       "\n",
       "                                         Descripcion  \\\n",
       "0  El diario británico publicó este pasado jueves...   \n",
       "1  REVELAN QUE EL GOBIERNO NEGOCIO LA LIBERACIÓN ...   \n",
       "2  El valencianismo convoca en Castelló su fiesta...   \n",
       "3  En política, igual que hay que negociar con lo...   \n",
       "4  En una entrevista en El Punt Avui, el líder de...   \n",
       "\n",
       "                                       Titulo_Limpio  \\\n",
       "0  the guardian va sanchez europa necesita apuest...   \n",
       "1  revelan gobierno negocio liberacion mireles ca...   \n",
       "2  ahora nunca joan fuster estatuto valenciano cu...   \n",
       "3  iglesias alienta yolanda diaz erc eh bildu neg...   \n",
       "4  puigdemont seria ninguna tragedia repeticion e...   \n",
       "\n",
       "                                  Descripcion_Limpia  \\\n",
       "0  diario britanico publico pasado jueves editori...   \n",
       "1  revelan gobierno negocio liberacion mireles ca...   \n",
       "2  valencianismo convoca castello fiesta grande c...   \n",
       "3  politica igual negociar empresarios negociar g...   \n",
       "4  entrevista punt avui lider jxcat desdramatizad...   \n",
       "\n",
       "                                       Titulo_Tokens  \\\n",
       "0  [the, guardian, va, sanchez, europa, necesita,...   \n",
       "1  [revelan, gobierno, negocio, liberacion, mirel...   \n",
       "2  [ahora, nunca, joan, fuster, estatuto, valenci...   \n",
       "3  [iglesias, alienta, yolanda, diaz, erc, eh, bi...   \n",
       "4  [puigdemont, seria, ninguna, tragedia, repetic...   \n",
       "\n",
       "                                  Descripcion_Tokens  \n",
       "0  [diario, britanico, publico, pasado, jueves, e...  \n",
       "1  [revelan, gobierno, negocio, liberacion, mirel...  \n",
       "2  [valencianismo, convoca, castello, fiesta, gra...  \n",
       "3  [politica, igual, negociar, empresarios, negoc...  \n",
       "4  [entrevista, punt, avui, lider, jxcat, desdram...  "
      ]
     },
     "execution_count": 17,
     "metadata": {},
     "output_type": "execute_result"
    }
   ],
   "source": [
    "def tokenize_nltk(text):\n",
    "    return word_tokenize(text, language=\"spanish\")\n",
    "\n",
    "# Aplicar tokenización en las columnas ya limpias\n",
    "news_df['Titulo_Tokens'] = news_df['Titulo_Limpio'].astype(str).apply(tokenize_nltk)\n",
    "news_df['Descripcion_Tokens'] = news_df['Descripcion_Limpia'].astype(str).apply(tokenize_nltk)\n",
    "\n",
    "# Mostrar ejemplos\n",
    "print(\"Comparación después de la tokenización:\")\n",
    "news_df.head()\n",
    "\n"
   ]
  },
  {
   "cell_type": "markdown",
   "metadata": {},
   "source": [
    "#### 3.3. Lematización\n",
    "\n",
    "Este código realiza la normalización del texto aplicando técnicas de stemming y lemmatización. La normalización se aplica a las columnas del DataFrame (Titulo_Tokens y Descripcion_Tokens), generando nuevas columnas Titulo_Normalizado y Descripcion_Normalizada, donde cada palabra es reducida a su raíz. Este paso es fundamental porque mejora la consistencia del texto y facilita el procesamiento de datos en modelos de análisis de texto."
   ]
  },
  {
   "cell_type": "code",
   "execution_count": 18,
   "metadata": {},
   "outputs": [
    {
     "name": "stdout",
     "output_type": "stream",
     "text": [
      "Comparación después de la normalización:\n"
     ]
    },
    {
     "data": {
      "text/html": [
       "<div>\n",
       "<style scoped>\n",
       "    .dataframe tbody tr th:only-of-type {\n",
       "        vertical-align: middle;\n",
       "    }\n",
       "\n",
       "    .dataframe tbody tr th {\n",
       "        vertical-align: top;\n",
       "    }\n",
       "\n",
       "    .dataframe thead th {\n",
       "        text-align: right;\n",
       "    }\n",
       "</style>\n",
       "<table border=\"1\" class=\"dataframe\">\n",
       "  <thead>\n",
       "    <tr style=\"text-align: right;\">\n",
       "      <th></th>\n",
       "      <th>Label</th>\n",
       "      <th>Titulo</th>\n",
       "      <th>Descripcion</th>\n",
       "      <th>Titulo_Limpio</th>\n",
       "      <th>Descripcion_Limpia</th>\n",
       "      <th>Titulo_Tokens</th>\n",
       "      <th>Descripcion_Tokens</th>\n",
       "      <th>Titulo_Normalizado</th>\n",
       "      <th>Descripcion_Normalizada</th>\n",
       "    </tr>\n",
       "  </thead>\n",
       "  <tbody>\n",
       "    <tr>\n",
       "      <th>0</th>\n",
       "      <td>1</td>\n",
       "      <td>'The Guardian' va con Sánchez: 'Europa necesit...</td>\n",
       "      <td>El diario británico publicó este pasado jueves...</td>\n",
       "      <td>the guardian va sanchez europa necesita apuest...</td>\n",
       "      <td>diario britanico publico pasado jueves editori...</td>\n",
       "      <td>[the, guardian, va, sanchez, europa, necesita,...</td>\n",
       "      <td>[diario, britanico, publico, pasado, jueves, e...</td>\n",
       "      <td>[necesita, va, frut, apuest, apuesta, sanchez,...</td>\n",
       "      <td>[ultraderecha, pasado, eleccion, presidente, b...</td>\n",
       "    </tr>\n",
       "    <tr>\n",
       "      <th>1</th>\n",
       "      <td>0</td>\n",
       "      <td>REVELAN QUE EL GOBIERNO NEGOCIO LA LIBERACIÓN ...</td>\n",
       "      <td>REVELAN QUE EL GOBIERNO NEGOCIO LA LIBERACIÓN ...</td>\n",
       "      <td>revelan gobierno negocio liberacion mireles ca...</td>\n",
       "      <td>revelan gobierno negocio liberacion mireles ca...</td>\n",
       "      <td>[revelan, gobierno, negocio, liberacion, mirel...</td>\n",
       "      <td>[revelan, gobierno, negocio, liberacion, mirel...</td>\n",
       "      <td>[otorg, negocio, javier, gobierno, mireles, mi...</td>\n",
       "      <td>[advertido, javier, encerrado, recuperara, gob...</td>\n",
       "    </tr>\n",
       "    <tr>\n",
       "      <th>2</th>\n",
       "      <td>1</td>\n",
       "      <td>El 'Ahora o nunca' de Joan Fuster sobre el est...</td>\n",
       "      <td>El valencianismo convoca en Castelló su fiesta...</td>\n",
       "      <td>ahora nunca joan fuster estatuto valenciano cu...</td>\n",
       "      <td>valencianismo convoca castello fiesta grande c...</td>\n",
       "      <td>[ahora, nunca, joan, fuster, estatuto, valenci...</td>\n",
       "      <td>[valencianismo, convoca, castello, fiesta, gra...</td>\n",
       "      <td>[estatut, cumpl, ahora, estatuto, joan, cumple...</td>\n",
       "      <td>[plen, estatuto, castello, aplec, conmemoracio...</td>\n",
       "    </tr>\n",
       "    <tr>\n",
       "      <th>3</th>\n",
       "      <td>1</td>\n",
       "      <td>Iglesias alienta a Yolanda Díaz, ERC y EH Bild...</td>\n",
       "      <td>En política, igual que hay que negociar con lo...</td>\n",
       "      <td>iglesias alienta yolanda diaz erc eh bildu neg...</td>\n",
       "      <td>politica igual negociar empresarios negociar g...</td>\n",
       "      <td>[iglesias, alienta, yolanda, diaz, erc, eh, bi...</td>\n",
       "      <td>[politica, igual, negociar, empresarios, negoc...</td>\n",
       "      <td>[alienta, investidura, rearm, bloque, eh, inve...</td>\n",
       "      <td>[iglesi, reflexion, reflexionado, parlamentari...</td>\n",
       "    </tr>\n",
       "    <tr>\n",
       "      <th>4</th>\n",
       "      <td>0</td>\n",
       "      <td>Puigdemont: 'No sería ninguna tragedia una rep...</td>\n",
       "      <td>En una entrevista en El Punt Avui, el líder de...</td>\n",
       "      <td>puigdemont seria ninguna tragedia repeticion e...</td>\n",
       "      <td>entrevista punt avui lider jxcat desdramatizad...</td>\n",
       "      <td>[puigdemont, seria, ninguna, tragedia, repetic...</td>\n",
       "      <td>[entrevista, punt, avui, lider, jxcat, desdram...</td>\n",
       "      <td>[tragedia, tragedi, repeticion, eleccion, ning...</td>\n",
       "      <td>[catalunya, egea, posibl, eleccion, judiciales...</td>\n",
       "    </tr>\n",
       "  </tbody>\n",
       "</table>\n",
       "</div>"
      ],
      "text/plain": [
       "   Label                                             Titulo  \\\n",
       "0      1  'The Guardian' va con Sánchez: 'Europa necesit...   \n",
       "1      0  REVELAN QUE EL GOBIERNO NEGOCIO LA LIBERACIÓN ...   \n",
       "2      1  El 'Ahora o nunca' de Joan Fuster sobre el est...   \n",
       "3      1  Iglesias alienta a Yolanda Díaz, ERC y EH Bild...   \n",
       "4      0  Puigdemont: 'No sería ninguna tragedia una rep...   \n",
       "\n",
       "                                         Descripcion  \\\n",
       "0  El diario británico publicó este pasado jueves...   \n",
       "1  REVELAN QUE EL GOBIERNO NEGOCIO LA LIBERACIÓN ...   \n",
       "2  El valencianismo convoca en Castelló su fiesta...   \n",
       "3  En política, igual que hay que negociar con lo...   \n",
       "4  En una entrevista en El Punt Avui, el líder de...   \n",
       "\n",
       "                                       Titulo_Limpio  \\\n",
       "0  the guardian va sanchez europa necesita apuest...   \n",
       "1  revelan gobierno negocio liberacion mireles ca...   \n",
       "2  ahora nunca joan fuster estatuto valenciano cu...   \n",
       "3  iglesias alienta yolanda diaz erc eh bildu neg...   \n",
       "4  puigdemont seria ninguna tragedia repeticion e...   \n",
       "\n",
       "                                  Descripcion_Limpia  \\\n",
       "0  diario britanico publico pasado jueves editori...   \n",
       "1  revelan gobierno negocio liberacion mireles ca...   \n",
       "2  valencianismo convoca castello fiesta grande c...   \n",
       "3  politica igual negociar empresarios negociar g...   \n",
       "4  entrevista punt avui lider jxcat desdramatizad...   \n",
       "\n",
       "                                       Titulo_Tokens  \\\n",
       "0  [the, guardian, va, sanchez, europa, necesita,...   \n",
       "1  [revelan, gobierno, negocio, liberacion, mirel...   \n",
       "2  [ahora, nunca, joan, fuster, estatuto, valenci...   \n",
       "3  [iglesias, alienta, yolanda, diaz, erc, eh, bi...   \n",
       "4  [puigdemont, seria, ninguna, tragedia, repetic...   \n",
       "\n",
       "                                  Descripcion_Tokens  \\\n",
       "0  [diario, britanico, publico, pasado, jueves, e...   \n",
       "1  [revelan, gobierno, negocio, liberacion, mirel...   \n",
       "2  [valencianismo, convoca, castello, fiesta, gra...   \n",
       "3  [politica, igual, negociar, empresarios, negoc...   \n",
       "4  [entrevista, punt, avui, lider, jxcat, desdram...   \n",
       "\n",
       "                                  Titulo_Normalizado  \\\n",
       "0  [necesita, va, frut, apuest, apuesta, sanchez,...   \n",
       "1  [otorg, negocio, javier, gobierno, mireles, mi...   \n",
       "2  [estatut, cumpl, ahora, estatuto, joan, cumple...   \n",
       "3  [alienta, investidura, rearm, bloque, eh, inve...   \n",
       "4  [tragedia, tragedi, repeticion, eleccion, ning...   \n",
       "\n",
       "                             Descripcion_Normalizada  \n",
       "0  [ultraderecha, pasado, eleccion, presidente, b...  \n",
       "1  [advertido, javier, encerrado, recuperara, gob...  \n",
       "2  [plen, estatuto, castello, aplec, conmemoracio...  \n",
       "3  [iglesi, reflexion, reflexionado, parlamentari...  \n",
       "4  [catalunya, egea, posibl, eleccion, judiciales...  "
      ]
     },
     "execution_count": 18,
     "metadata": {},
     "output_type": "execute_result"
    }
   ],
   "source": [
    "\n",
    "\n",
    "# Descargar recursos necesarios para lematización\n",
    "#nltk.download('wordnet')\n",
    "#nltk.download('omw-1.4')\n",
    "\n",
    "# Crear los objetos para stemming y lematización\n",
    "stemmer = SnowballStemmer(\"spanish\")\n",
    "lemmatizer = WordNetLemmatizer()\n",
    "\n",
    "def stem_words(words):\n",
    "    \"\"\"Aplica stemming para eliminar prefijos y sufijos en las palabras\"\"\"\n",
    "    return [stemmer.stem(word) for word in words]\n",
    "\n",
    "def lemmatize_verbs(words):\n",
    "    \"\"\"Aplica lematización para obtener la raíz de los verbos\"\"\"\n",
    "    return [lemmatizer.lemmatize(word, wordnet.VERB) for word in words]\n",
    "\n",
    "def stem_and_lemmatize(words):\n",
    "    \"\"\"Combina stemming y lematización para normalizar los datos\"\"\"\n",
    "    stemmed = stem_words(words)\n",
    "    lemmatized = lemmatize_verbs(words)\n",
    "    return list(set(stemmed + lemmatized))  # Se usa set() para evitar duplicados\n",
    "\n",
    "# Aplicar normalización a las columnas tokenizadas\n",
    "news_df['Titulo_Normalizado'] = news_df['Titulo_Tokens'].apply(stem_and_lemmatize)\n",
    "news_df['Descripcion_Normalizada'] = news_df['Descripcion_Tokens'].apply(stem_and_lemmatize)\n",
    "\n",
    "# Mostrar ejemplos\n",
    "print(\"Comparación después de la normalización:\")\n",
    "news_df.head()\n"
   ]
  },
  {
   "cell_type": "markdown",
   "metadata": {},
   "source": [
    "Se mostrarán solamente: Los tokens del título, los tokens de la descripción, el titulo normalizado y la descripción normalizada."
   ]
  },
  {
   "cell_type": "code",
   "execution_count": 19,
   "metadata": {},
   "outputs": [
    {
     "data": {
      "text/html": [
       "<div>\n",
       "<style scoped>\n",
       "    .dataframe tbody tr th:only-of-type {\n",
       "        vertical-align: middle;\n",
       "    }\n",
       "\n",
       "    .dataframe tbody tr th {\n",
       "        vertical-align: top;\n",
       "    }\n",
       "\n",
       "    .dataframe thead th {\n",
       "        text-align: right;\n",
       "    }\n",
       "</style>\n",
       "<table border=\"1\" class=\"dataframe\">\n",
       "  <thead>\n",
       "    <tr style=\"text-align: right;\">\n",
       "      <th></th>\n",
       "      <th>Label</th>\n",
       "      <th>Titulo_Tokens</th>\n",
       "      <th>Descripcion_Tokens</th>\n",
       "      <th>Titulo_Normalizado</th>\n",
       "      <th>Descripcion_Normalizada</th>\n",
       "    </tr>\n",
       "  </thead>\n",
       "  <tbody>\n",
       "    <tr>\n",
       "      <th>0</th>\n",
       "      <td>1</td>\n",
       "      <td>[the, guardian, va, sanchez, europa, necesita,...</td>\n",
       "      <td>[diario, britanico, publico, pasado, jueves, e...</td>\n",
       "      <td>[necesita, va, frut, apuest, apuesta, sanchez,...</td>\n",
       "      <td>[ultraderecha, pasado, eleccion, presidente, b...</td>\n",
       "    </tr>\n",
       "    <tr>\n",
       "      <th>1</th>\n",
       "      <td>0</td>\n",
       "      <td>[revelan, gobierno, negocio, liberacion, mirel...</td>\n",
       "      <td>[revelan, gobierno, negocio, liberacion, mirel...</td>\n",
       "      <td>[otorg, negocio, javier, gobierno, mireles, mi...</td>\n",
       "      <td>[advertido, javier, encerrado, recuperara, gob...</td>\n",
       "    </tr>\n",
       "    <tr>\n",
       "      <th>2</th>\n",
       "      <td>1</td>\n",
       "      <td>[ahora, nunca, joan, fuster, estatuto, valenci...</td>\n",
       "      <td>[valencianismo, convoca, castello, fiesta, gra...</td>\n",
       "      <td>[estatut, cumpl, ahora, estatuto, joan, cumple...</td>\n",
       "      <td>[plen, estatuto, castello, aplec, conmemoracio...</td>\n",
       "    </tr>\n",
       "    <tr>\n",
       "      <th>3</th>\n",
       "      <td>1</td>\n",
       "      <td>[iglesias, alienta, yolanda, diaz, erc, eh, bi...</td>\n",
       "      <td>[politica, igual, negociar, empresarios, negoc...</td>\n",
       "      <td>[alienta, investidura, rearm, bloque, eh, inve...</td>\n",
       "      <td>[iglesi, reflexion, reflexionado, parlamentari...</td>\n",
       "    </tr>\n",
       "    <tr>\n",
       "      <th>4</th>\n",
       "      <td>0</td>\n",
       "      <td>[puigdemont, seria, ninguna, tragedia, repetic...</td>\n",
       "      <td>[entrevista, punt, avui, lider, jxcat, desdram...</td>\n",
       "      <td>[tragedia, tragedi, repeticion, eleccion, ning...</td>\n",
       "      <td>[catalunya, egea, posibl, eleccion, judiciales...</td>\n",
       "    </tr>\n",
       "  </tbody>\n",
       "</table>\n",
       "</div>"
      ],
      "text/plain": [
       "   Label                                      Titulo_Tokens  \\\n",
       "0      1  [the, guardian, va, sanchez, europa, necesita,...   \n",
       "1      0  [revelan, gobierno, negocio, liberacion, mirel...   \n",
       "2      1  [ahora, nunca, joan, fuster, estatuto, valenci...   \n",
       "3      1  [iglesias, alienta, yolanda, diaz, erc, eh, bi...   \n",
       "4      0  [puigdemont, seria, ninguna, tragedia, repetic...   \n",
       "\n",
       "                                  Descripcion_Tokens  \\\n",
       "0  [diario, britanico, publico, pasado, jueves, e...   \n",
       "1  [revelan, gobierno, negocio, liberacion, mirel...   \n",
       "2  [valencianismo, convoca, castello, fiesta, gra...   \n",
       "3  [politica, igual, negociar, empresarios, negoc...   \n",
       "4  [entrevista, punt, avui, lider, jxcat, desdram...   \n",
       "\n",
       "                                  Titulo_Normalizado  \\\n",
       "0  [necesita, va, frut, apuest, apuesta, sanchez,...   \n",
       "1  [otorg, negocio, javier, gobierno, mireles, mi...   \n",
       "2  [estatut, cumpl, ahora, estatuto, joan, cumple...   \n",
       "3  [alienta, investidura, rearm, bloque, eh, inve...   \n",
       "4  [tragedia, tragedi, repeticion, eleccion, ning...   \n",
       "\n",
       "                             Descripcion_Normalizada  \n",
       "0  [ultraderecha, pasado, eleccion, presidente, b...  \n",
       "1  [advertido, javier, encerrado, recuperara, gob...  \n",
       "2  [plen, estatuto, castello, aplec, conmemoracio...  \n",
       "3  [iglesi, reflexion, reflexionado, parlamentari...  \n",
       "4  [catalunya, egea, posibl, eleccion, judiciales...  "
      ]
     },
     "execution_count": 19,
     "metadata": {},
     "output_type": "execute_result"
    }
   ],
   "source": [
    "processed_df = news_df[['Label', 'Titulo_Tokens', 'Descripcion_Tokens', 'Titulo_Normalizado', 'Descripcion_Normalizada']]\n",
    "processed_df.head()"
   ]
  },
  {
   "cell_type": "markdown",
   "metadata": {},
   "source": [
    "Ahora unificaremos los titulos y las descripciones normalizadas."
   ]
  },
  {
   "cell_type": "code",
   "execution_count": 20,
   "metadata": {},
   "outputs": [
    {
     "data": {
      "text/html": [
       "<div>\n",
       "<style scoped>\n",
       "    .dataframe tbody tr th:only-of-type {\n",
       "        vertical-align: middle;\n",
       "    }\n",
       "\n",
       "    .dataframe tbody tr th {\n",
       "        vertical-align: top;\n",
       "    }\n",
       "\n",
       "    .dataframe thead th {\n",
       "        text-align: right;\n",
       "    }\n",
       "</style>\n",
       "<table border=\"1\" class=\"dataframe\">\n",
       "  <thead>\n",
       "    <tr style=\"text-align: right;\">\n",
       "      <th></th>\n",
       "      <th>Label</th>\n",
       "      <th>Titulo_Tokens</th>\n",
       "      <th>Descripcion_Tokens</th>\n",
       "      <th>Titulo_Normalizado</th>\n",
       "      <th>Descripcion_Normalizada</th>\n",
       "    </tr>\n",
       "  </thead>\n",
       "  <tbody>\n",
       "    <tr>\n",
       "      <th>0</th>\n",
       "      <td>1</td>\n",
       "      <td>[the, guardian, va, sanchez, europa, necesita,...</td>\n",
       "      <td>[diario, britanico, publico, pasado, jueves, e...</td>\n",
       "      <td>necesita va frut apuest apuesta sanchez frutos...</td>\n",
       "      <td>ultraderecha pasado eleccion presidente britan...</td>\n",
       "    </tr>\n",
       "    <tr>\n",
       "      <th>1</th>\n",
       "      <td>0</td>\n",
       "      <td>[revelan, gobierno, negocio, liberacion, mirel...</td>\n",
       "      <td>[revelan, gobierno, negocio, liberacion, mirel...</td>\n",
       "      <td>otorg negocio javier gobierno mireles mirel ot...</td>\n",
       "      <td>advertido javier encerrado recuperara gobern e...</td>\n",
       "    </tr>\n",
       "    <tr>\n",
       "      <th>2</th>\n",
       "      <td>1</td>\n",
       "      <td>[ahora, nunca, joan, fuster, estatuto, valenci...</td>\n",
       "      <td>[valencianismo, convoca, castello, fiesta, gra...</td>\n",
       "      <td>estatut cumpl ahora estatuto joan cumple valen...</td>\n",
       "      <td>plen estatuto castello aplec conmemoracion tor...</td>\n",
       "    </tr>\n",
       "    <tr>\n",
       "      <th>3</th>\n",
       "      <td>1</td>\n",
       "      <td>[iglesias, alienta, yolanda, diaz, erc, eh, bi...</td>\n",
       "      <td>[politica, igual, negociar, empresarios, negoc...</td>\n",
       "      <td>alienta investidura rearm bloque eh investidur...</td>\n",
       "      <td>iglesi reflexion reflexionado parlamentarios p...</td>\n",
       "    </tr>\n",
       "    <tr>\n",
       "      <th>4</th>\n",
       "      <td>0</td>\n",
       "      <td>[puigdemont, seria, ninguna, tragedia, repetic...</td>\n",
       "      <td>[entrevista, punt, avui, lider, jxcat, desdram...</td>\n",
       "      <td>tragedia tragedi repeticion eleccion ninguna s...</td>\n",
       "      <td>catalunya egea posibl eleccion judiciales desd...</td>\n",
       "    </tr>\n",
       "  </tbody>\n",
       "</table>\n",
       "</div>"
      ],
      "text/plain": [
       "   Label                                      Titulo_Tokens  \\\n",
       "0      1  [the, guardian, va, sanchez, europa, necesita,...   \n",
       "1      0  [revelan, gobierno, negocio, liberacion, mirel...   \n",
       "2      1  [ahora, nunca, joan, fuster, estatuto, valenci...   \n",
       "3      1  [iglesias, alienta, yolanda, diaz, erc, eh, bi...   \n",
       "4      0  [puigdemont, seria, ninguna, tragedia, repetic...   \n",
       "\n",
       "                                  Descripcion_Tokens  \\\n",
       "0  [diario, britanico, publico, pasado, jueves, e...   \n",
       "1  [revelan, gobierno, negocio, liberacion, mirel...   \n",
       "2  [valencianismo, convoca, castello, fiesta, gra...   \n",
       "3  [politica, igual, negociar, empresarios, negoc...   \n",
       "4  [entrevista, punt, avui, lider, jxcat, desdram...   \n",
       "\n",
       "                                  Titulo_Normalizado  \\\n",
       "0  necesita va frut apuest apuesta sanchez frutos...   \n",
       "1  otorg negocio javier gobierno mireles mirel ot...   \n",
       "2  estatut cumpl ahora estatuto joan cumple valen...   \n",
       "3  alienta investidura rearm bloque eh investidur...   \n",
       "4  tragedia tragedi repeticion eleccion ninguna s...   \n",
       "\n",
       "                             Descripcion_Normalizada  \n",
       "0  ultraderecha pasado eleccion presidente britan...  \n",
       "1  advertido javier encerrado recuperara gobern e...  \n",
       "2  plen estatuto castello aplec conmemoracion tor...  \n",
       "3  iglesi reflexion reflexionado parlamentarios p...  \n",
       "4  catalunya egea posibl eleccion judiciales desd...  "
      ]
     },
     "execution_count": 20,
     "metadata": {},
     "output_type": "execute_result"
    }
   ],
   "source": [
    "# Hacer copia del dataframe procesado\n",
    "processed_news_df = processed_df.copy()\n",
    "\n",
    "# Convertir las listas de palabras en texto separado por espacios en las columnas Titulo_Normalizado y Descripcion_Normalizada\n",
    "processed_news_df['Titulo_Normalizado'] = processed_news_df['Titulo_Normalizado'].apply(lambda tokens: \" \".join(tokens))\n",
    "processed_news_df['Descripcion_Normalizada'] = processed_news_df['Descripcion_Normalizada'].apply(lambda tokens: \" \".join(tokens))\n",
    "\n",
    "# Mostrar algunos ejemplos para verificar el cambio\n",
    "processed_news_df.head()"
   ]
  },
  {
   "cell_type": "markdown",
   "metadata": {},
   "source": [
    "## 4. Construcción de Modelos"
   ]
  },
  {
   "cell_type": "markdown",
   "metadata": {},
   "source": [
    "Como los datos que tenemos son datos de texto, debemos de alguna maner convertir estos datos en valores interpretables por el modelo para generar información relevante que podamos interpretar. En este caso, usaremos a nuestro favor la **vectorización de texto** a partir del método TF-IDF ya que es una opción balanceada entre simplicidad y efectividad. La idea es convertir los textos de 'Titulo_Normalizado' y 'Descripcion_Normalizada' en vectores numéricos usando TF-IDF y luego usarlos para entrenar un modelo de clasificación. "
   ]
  },
  {
   "cell_type": "markdown",
   "metadata": {},
   "source": [
    "#### 4.1 Transformación TF-IDF"
   ]
  },
  {
   "cell_type": "code",
   "execution_count": 21,
   "metadata": {},
   "outputs": [
    {
     "name": "stdout",
     "output_type": "stream",
     "text": [
      "Dimensión de la matriz de características X: (57063, 91339)\n",
      "Dimensión de la variable objetivo y: (57063,)\n"
     ]
    }
   ],
   "source": [
    "# Definimos el vectorizador TF-IDF\n",
    "vectorizer = TfidfVectorizer()  # Limitamos el número de características para evitar alta dimensionalidad\n",
    "\n",
    "# Aplicamos la transformación TF-IDF a las columnas normalizadas\n",
    "titulo_tfidf = vectorizer.fit_transform(processed_news_df['Titulo_Normalizado'])\n",
    "descripcion_tfidf = vectorizer.fit_transform(processed_news_df['Descripcion_Normalizada'])\n",
    "\n",
    "# Concatenamos ambas representaciones para tener una única matriz de características\n",
    "X = hstack([titulo_tfidf, descripcion_tfidf])\n",
    "# Definimos la variable objetivo\n",
    "y = processed_news_df['Label']\n",
    "\n",
    "# Mostramos la forma de la matriz final\n",
    "print(\"Dimensión de la matriz de características X:\", X.shape)\n",
    "print(\"Dimensión de la variable objetivo y:\", y.shape)"
   ]
  },
  {
   "cell_type": "code",
   "execution_count": 22,
   "metadata": {},
   "outputs": [],
   "source": [
    "# AUXILIAR\n",
    "\n",
    "# Aplicamos la transformación TF-IDF a las columnas normalizadas\n",
    "titulo_tfidf = vectorizer.fit_transform(processed_news_df['Titulo_Normalizado'])\n",
    "descripcion_tfidf = vectorizer.fit_transform(processed_news_df['Descripcion_Normalizada'])\n",
    "\n",
    "# Concatenamos ambas representaciones para tener una única matriz de características\n",
    "X = hstack([titulo_tfidf, descripcion_tfidf])"
   ]
  },
  {
   "cell_type": "markdown",
   "metadata": {},
   "source": [
    "#### 4.2 Entrenamiento del primer modelo de clasificación - Regresión Logística"
   ]
  },
  {
   "cell_type": "markdown",
   "metadata": {},
   "source": [
    "Utilizaremos un modelo clásico de Regresión Logística, ya que es simple, eficiente y suele funcionar bien en tareas de clasificación de texto."
   ]
  },
  {
   "cell_type": "code",
   "execution_count": 23,
   "metadata": {},
   "outputs": [],
   "source": [
    "# Dividimos los datos en entrenamiento (80%) y prueba (20%)\n",
    "X_train, X_test, y_train, y_test = train_test_split(X, y, test_size=0.2, random_state=42, stratify=y)\n",
    "\n",
    "# Inicializamos y entrenamos el modelo de Regresión Logística\n",
    "modelo = LogisticRegression(max_iter=1000)  # Aumentamos las iteraciones para asegurar convergencia\n",
    "modelo.fit(X_train, y_train)\n",
    "\n",
    "# Hacemos predicciones sobre el conjunto de prueba\n",
    "y_pred = modelo.predict(X_test)\n",
    "\n",
    "# Evaluamos el modelo con una matriz de confusión y métricas de desempeño\n",
    "conf_matrix = confusion_matrix(y_test, y_pred)\n",
    "accuracy = accuracy_score(y_test, y_pred)\n",
    "classification_rep = classification_report(y_test, y_pred)"
   ]
  },
  {
   "cell_type": "markdown",
   "metadata": {},
   "source": [
    "#### 4.3 Resultados de la Regresión Logística"
   ]
  },
  {
   "cell_type": "markdown",
   "metadata": {},
   "source": [
    "##### 4.3.1 Reporte de Clasificación"
   ]
  },
  {
   "cell_type": "code",
   "execution_count": 24,
   "metadata": {},
   "outputs": [
    {
     "name": "stdout",
     "output_type": "stream",
     "text": [
      "Exactitud: 0.89\n",
      "Recall: 0.9632086851628469\n",
      "Precisión: 0.8637101135749053\n",
      "Puntuación F1: 0.9107499287140006\n",
      "\n",
      "Reporte de Clasificación:\n",
      "              precision    recall  f1-score   support\n",
      "\n",
      "           0       0.94      0.79      0.86      4781\n",
      "           1       0.86      0.96      0.91      6632\n",
      "\n",
      "    accuracy                           0.89     11413\n",
      "   macro avg       0.90      0.88      0.88     11413\n",
      "weighted avg       0.90      0.89      0.89     11413\n",
      "\n"
     ]
    }
   ],
   "source": [
    "# Mostramos los resultados\n",
    "print('Exactitud: %.2f' % accuracy_score(y_test, y_pred))\n",
    "print(\"Recall: {}\".format(recall_score(y_test,y_pred)))\n",
    "print(\"Precisión: {}\".format(precision_score(y_test,y_pred)))\n",
    "print(\"Puntuación F1: {}\".format(f1_score(y_test,y_pred)))\n",
    "\n",
    "print(\"\\nReporte de Clasificación:\")\n",
    "print(classification_rep)"
   ]
  },
  {
   "cell_type": "markdown",
   "metadata": {},
   "source": [
    "**Análisis de Métricas**\n",
    "- **Exactitud:** El 89% de las noticias fueron clasificadas correctamente. Sin embargo, esta métrica no siempre refleja bien el rendimiento en problemas desbalanceados.\n",
    "\n",
    "- **Recall:** El 96% de las noticias verdaderas fueron correctamente identificadas como verdaderas. El 79% de las noticias falsas fueron correctamente identificadas como falsas. El problema principal es que el modelo no está detectando bien las noticias falsas (21% de error en recall para 0.)\n",
    "\n",
    "- **Presición:** El 86% de las noticias clasificadas como verdaderas realmente son verdaderas (lo cual indica que hay un error del 14%). el 94% de las noticias clasificadas como falsas realmente son falsas.\n",
    "\n",
    "- **Puntuación F1:** Un valor más alto significa un mejor balance entre detectar correctamente noticias falsas y evitar clasificar noticias reales como falsas. El modelo tiene un mejor desempeño en la detección de noticias verdaderas (91%) que en la detección de noticias falsas (86%). Esto significa que el modelo puede pasar muchas noticias falsas como verdaderas (falsos negativos)."
   ]
  },
  {
   "cell_type": "markdown",
   "metadata": {},
   "source": [
    "##### 4.3.2 Matríz de Confusión"
   ]
  },
  {
   "cell_type": "code",
   "execution_count": 25,
   "metadata": {},
   "outputs": [],
   "source": [
    "cm = confusion_matrix(y_test, y_pred)"
   ]
  },
  {
   "cell_type": "code",
   "execution_count": 26,
   "metadata": {},
   "outputs": [
    {
     "data": {
      "image/png": "[encoded data removed]",
      "text/plain": [
       "<Figure size 1000x500 with 2 Axes>"
      ]
     },
     "metadata": {},
     "output_type": "display_data"
    }
   ],
   "source": [
    "disp = ConfusionMatrixDisplay(confusion_matrix=cm, display_labels=modelo.classes_)\n",
    "disp.plot(cmap=plt.cm.Blues)\n",
    "\n",
    "plt.show()"
   ]
  },
  {
   "cell_type": "markdown",
   "metadata": {},
   "source": [
    "**Explicación de los valores del modelo**\n",
    "\n",
    "- **Verdaderos Negativos (3773):** Noticias falsas *correctamente* identificadas como falsas.\n",
    "\n",
    "- **Falsos Positivos (1008):** Noticias verdaderas clasificadad *incorrectamente* como falsas.\n",
    "\n",
    "- **Falsos Negativos (244):** Noticias falsas clasificadas *incorrectamente* como verdaderas.\n",
    "\n",
    "- **Verdaderos Positivos (6388):** Noticias verdaderas *correctamente* identificadas como verdaderas."
   ]
  },
  {
   "cell_type": "markdown",
   "metadata": {},
   "source": [
    "##### 4.3.3 Conclusiones iniciales\n",
    "\n",
    "1. El modelo es confiable para detectar noticias verdaderas (96% recall), pero tiene problemas a la hora de detectar noticias falsas (solo 79% de recall).\n",
    "\n",
    "2. El principal problema son los falsos positivos (1,008 noticias verdaderas clasificadas erróneamente como falsas).\n",
    "\n",
    "3. Si el objetivo es detectar la mayor cantidad posible de noticias falsas, el modelo debe ser ajustado para mejorar su recall."
   ]
  },
  {
   "cell_type": "markdown",
   "metadata": {},
   "source": [
    "##### 4.3.4 Modificación del Umbral de clasificación"
   ]
  },
  {
   "cell_type": "markdown",
   "metadata": {},
   "source": [
    "Actualmente, el umbral de clasificación para la detección de noticias es de 0.5, esto significa que si la probabilidad de una noticia de ser verdadera es mayor al 50% se clasifica como verdadera. Podemos entonces, disminuir este umbral para que el modelo sea más estricto al clasificar noticias como verdaderas, aumentando así la detección de noticias falsas."
   ]
  },
  {
   "cell_type": "code",
   "execution_count": 27,
   "metadata": {},
   "outputs": [
    {
     "data": {
      "image/png": "[encoded data removed]",
      "text/plain": [
       "<Figure size 800x600 with 1 Axes>"
      ]
     },
     "metadata": {},
     "output_type": "display_data"
    }
   ],
   "source": [
    "# Obtenemos las probabilidades de predicción en el conjunto de prueba\n",
    "y_prob = modelo.predict_proba(X_test)[:, 1]  # Probabilidad de ser noticia verdadera (Clase 1)\n",
    "\n",
    "# Calculamos Precision, Recall y Umbrales automáticamente\n",
    "precisions, recalls, thresholds = precision_recall_curve(y_test, y_prob)\n",
    "\n",
    "# Graficamos Precision-Recall para diferentes umbrales\n",
    "plt.figure(figsize=(8, 6))\n",
    "plt.plot(thresholds, precisions[:-1], label=\"Precisión\")\n",
    "plt.plot(thresholds, recalls[:-1], label=\"Recall\")\n",
    "plt.xlabel(\"Umbral de clasificación\")\n",
    "plt.ylabel(\"Métrica\")\n",
    "plt.legend()\n",
    "plt.title(\"Precisión y Recall en función del Umbral de Clasificación\")\n",
    "plt.grid()\n",
    "plt.show()\n"
   ]
  },
  {
   "cell_type": "markdown",
   "metadata": {},
   "source": [
    "**Análisis de la curva Presición-Recall en función del Umbral de Clasificación**\n",
    "\n",
    "El punto de equilibrio lo encontramos entre 0.6 y 0.7 podemos empezar a experimentar con estos valores y evaluar los resultados."
   ]
  },
  {
   "cell_type": "code",
   "execution_count": 28,
   "metadata": {},
   "outputs": [
    {
     "name": "stdout",
     "output_type": "stream",
     "text": [
      "Matriz de Confusión (Umbral 0.6):\n",
      "[[4026  755]\n",
      " [ 488 6144]]\n",
      "\n",
      "Reporte de Clasificación (Umbral 0.6):\n",
      "              precision    recall  f1-score   support\n",
      "\n",
      "           0       0.89      0.84      0.87      4781\n",
      "           1       0.89      0.93      0.91      6632\n",
      "\n",
      "    accuracy                           0.89     11413\n",
      "   macro avg       0.89      0.88      0.89     11413\n",
      "weighted avg       0.89      0.89      0.89     11413\n",
      "\n",
      "\n",
      "Exactitud del modelo (Umbral 0.6): 0.8911\n"
     ]
    }
   ],
   "source": [
    "# Definimos el nuevo umbral\n",
    "nuevo_umbral = 0.6\n",
    "\n",
    "# Aplicamos el nuevo umbral a las predicciones\n",
    "y_pred_ajustado = (y_prob >= nuevo_umbral).astype(int)\n",
    "\n",
    "# Calculamos las nuevas métricas\n",
    "from sklearn.metrics import confusion_matrix, accuracy_score, classification_report\n",
    "\n",
    "conf_matrix_ajustada = confusion_matrix(y_test, y_pred_ajustado)\n",
    "accuracy_ajustada = accuracy_score(y_test, y_pred_ajustado)\n",
    "classification_rep_ajustado = classification_report(y_test, y_pred_ajustado)\n",
    "\n",
    "# Mostramos los resultados ajustados\n",
    "print(\"Matriz de Confusión (Umbral 0.6):\")\n",
    "print(conf_matrix_ajustada)\n",
    "print(\"\\nReporte de Clasificación (Umbral 0.6):\")\n",
    "print(classification_rep_ajustado)\n",
    "print(f\"\\nExactitud del modelo (Umbral 0.6): {accuracy_ajustada:.4f}\")\n"
   ]
  },
  {
   "cell_type": "markdown",
   "metadata": {},
   "source": [
    "Lo primero que identificamos es que el 93% de las noticias verdaderas fueron correctamente identificadas como verdaderas. El **84% de las noticias falsas fueron correctamente identificadas como falsas**, reduciendo así el error a 16%. "
   ]
  },
  {
   "cell_type": "code",
   "execution_count": 29,
   "metadata": {},
   "outputs": [],
   "source": [
    "cm_modificada = confusion_matrix(y_test, y_pred_ajustado)"
   ]
  },
  {
   "cell_type": "code",
   "execution_count": 30,
   "metadata": {},
   "outputs": [
    {
     "data": {
      "image/png": "[encoded data removed]",
      "text/plain": [
       "<Figure size 1000x500 with 2 Axes>"
      ]
     },
     "metadata": {},
     "output_type": "display_data"
    }
   ],
   "source": [
    "disp = ConfusionMatrixDisplay(confusion_matrix=cm_modificada, display_labels=modelo.classes_)\n",
    "disp.plot(cmap=plt.cm.Blues)\n",
    "\n",
    "plt.show()"
   ]
  },
  {
   "cell_type": "markdown",
   "metadata": {},
   "source": [
    "La matríz de confusión también presenta resultados bastante satisfactorios, reduciendo los falsos negativos a cambio de el aumento en los falsos positivos, pero a su vez, aumentando también las noticias tanto falsas como verdaderas que se clasificaron correctamente. Concluimos un buen tradeoff y un modelo que puede cumplir con los estándares del negocio."
   ]
  },
  {
   "cell_type": "markdown",
   "metadata": {},
   "source": [
    "#### 4.4. Red neuronal"
   ]
  },
  {
   "cell_type": "markdown",
   "metadata": {},
   "source": [
    "##### 4.4.1. Entrenamiento de la red neuronal.\n",
    "Como estamos trabajando con un problema de clasificación binaria, necesitamos un modelo capaz de capturar patrones en los datos y realizar predicciones con precisión. En este caso, utilizamos una red neuronal artificial (RNA), una arquitectura flexible y potente para el aprendizaje automático. La red está compuesta por tres capas densas: la primera con 128 neuronas y la segunda con 64, ambas activadas con ReLU para mejorar el aprendizaje no lineal. Para evitar el sobreajuste, se incorpora Dropout con un 30% de desactivación de neuronas en cada capa oculta. Finalmente, la capa de salida tiene una única neurona con activación sigmoide, lo que permite obtener una probabilidad para clasificar cada noticia como verdadera o falsa."
   ]
  },
  {
   "cell_type": "code",
   "execution_count": null,
   "metadata": {},
   "outputs": [
    {
     "name": "stderr",
     "output_type": "stream",
     "text": [
      "C:\\Users\\mgs05\\AppData\\Local\\Packages\\PythonSoftwareFoundation.Python.3.11_qbz5n2kfra8p0\\LocalCache\\local-packages\\Python311\\site-packages\\keras\\src\\layers\\core\\dense.py:87: UserWarning: Do not pass an `input_shape`/`input_dim` argument to a layer. When using Sequential models, prefer using an `Input(shape)` object as the first layer in the model instead.\n",
      "  super().__init__(activity_regularizer=activity_regularizer, **kwargs)\n"
     ]
    },
    {
     "name": "stdout",
     "output_type": "stream",
     "text": [
      "Epoch 1/10\n",
      "\u001b[1m1427/1427\u001b[0m \u001b[32m━━━━━━━━━━━━━━━━━━━━\u001b[0m\u001b[37m\u001b[0m \u001b[1m75s\u001b[0m 51ms/step - accuracy: 0.7965 - loss: 0.4320 - val_accuracy: 0.8749 - val_loss: 0.3007\n",
      "Epoch 2/10\n",
      "\u001b[1m1427/1427\u001b[0m \u001b[32m━━━━━━━━━━━━━━━━━━━━\u001b[0m\u001b[37m\u001b[0m \u001b[1m71s\u001b[0m 50ms/step - accuracy: 0.9262 - loss: 0.1761 - val_accuracy: 0.8723 - val_loss: 0.3317\n",
      "Epoch 3/10\n",
      "\u001b[1m1427/1427\u001b[0m \u001b[32m━━━━━━━━━━━━━━━━━━━━\u001b[0m\u001b[37m\u001b[0m \u001b[1m64s\u001b[0m 45ms/step - accuracy: 0.9518 - loss: 0.1078 - val_accuracy: 0.8707 - val_loss: 0.4003\n",
      "Epoch 4/10\n",
      "\u001b[1m1427/1427\u001b[0m \u001b[32m━━━━━━━━━━━━━━━━━━━━\u001b[0m\u001b[37m\u001b[0m \u001b[1m64s\u001b[0m 45ms/step - accuracy: 0.9642 - loss: 0.0743 - val_accuracy: 0.8712 - val_loss: 0.4738\n",
      "Epoch 5/10\n",
      "\u001b[1m1427/1427\u001b[0m \u001b[32m━━━━━━━━━━━━━━━━━━━━\u001b[0m\u001b[37m\u001b[0m \u001b[1m63s\u001b[0m 44ms/step - accuracy: 0.9712 - loss: 0.0617 - val_accuracy: 0.8716 - val_loss: 0.5307\n",
      "Epoch 6/10\n",
      "\u001b[1m1427/1427\u001b[0m \u001b[32m━━━━━━━━━━━━━━━━━━━━\u001b[0m\u001b[37m\u001b[0m \u001b[1m63s\u001b[0m 44ms/step - accuracy: 0.9742 - loss: 0.0538 - val_accuracy: 0.8735 - val_loss: 0.5412\n",
      "Epoch 7/10\n",
      "\u001b[1m1427/1427\u001b[0m \u001b[32m━━━━━━━━━━━━━━━━━━━━\u001b[0m\u001b[37m\u001b[0m \u001b[1m64s\u001b[0m 45ms/step - accuracy: 0.9765 - loss: 0.0458 - val_accuracy: 0.8778 - val_loss: 0.6095\n",
      "Epoch 8/10\n",
      "\u001b[1m1427/1427\u001b[0m \u001b[32m━━━━━━━━━━━━━━━━━━━━\u001b[0m\u001b[37m\u001b[0m \u001b[1m64s\u001b[0m 45ms/step - accuracy: 0.9804 - loss: 0.0386 - val_accuracy: 0.8811 - val_loss: 0.6397\n",
      "Epoch 9/10\n",
      "\u001b[1m1427/1427\u001b[0m \u001b[32m━━━━━━━━━━━━━━━━━━━━\u001b[0m\u001b[37m\u001b[0m \u001b[1m64s\u001b[0m 45ms/step - accuracy: 0.9814 - loss: 0.0352 - val_accuracy: 0.8815 - val_loss: 0.6652\n",
      "Epoch 10/10\n",
      "\u001b[1m1427/1427\u001b[0m \u001b[32m━━━━━━━━━━━━━━━━━━━━\u001b[0m\u001b[37m\u001b[0m \u001b[1m64s\u001b[0m 45ms/step - accuracy: 0.9837 - loss: 0.0327 - val_accuracy: 0.8820 - val_loss: 0.6461\n",
      "\u001b[1m357/357\u001b[0m \u001b[32m━━━━━━━━━━━━━━━━━━━━\u001b[0m\u001b[37m\u001b[0m \u001b[1m1s\u001b[0m 2ms/step\n",
      "Matriz de Confusión:\n",
      "[[3968  813]\n",
      " [ 534 6098]]\n",
      "\n",
      "Reporte de Clasificación:\n",
      "              precision    recall  f1-score   support\n",
      "\n",
      "           0       0.88      0.83      0.85      4781\n",
      "           1       0.88      0.92      0.90      6632\n",
      "\n",
      "    accuracy                           0.88     11413\n",
      "   macro avg       0.88      0.87      0.88     11413\n",
      "weighted avg       0.88      0.88      0.88     11413\n",
      "\n",
      "\n",
      "Exactitud del modelo: 0.8820\n"
     ]
    }
   ],
   "source": [
    "# Dividimos los datos en entrenamiento (80%) y prueba (20%)\n",
    "X_train, X_test, y_train, y_test = train_test_split(X, y, test_size=0.2, random_state=42, stratify=y)\n",
    "\n",
    "# Definimos la arquitectura de la red neuronal\n",
    "modelo_nn = keras.Sequential([\n",
    "    keras.layers.Dense(128, activation='relu', input_shape=(X.shape[1],)),\n",
    "    keras.layers.Dropout(0.3),  # Regularización para evitar sobreajuste\n",
    "    keras.layers.Dense(64, activation='relu'),\n",
    "    keras.layers.Dropout(0.3),\n",
    "    keras.layers.Dense(1, activation='sigmoid')  # Capa de salida para clasificación binaria\n",
    "])\n",
    "\n",
    "# Compilamos el modelo\n",
    "modelo_nn.compile(optimizer='adam', loss='binary_crossentropy', metrics=['accuracy'])\n",
    "\n",
    "# Entrenamos el modelo\n",
    "history = modelo_nn.fit(X_train, y_train, epochs=10, batch_size=32, validation_data=(X_test, y_test), verbose=1)\n",
    "\n",
    "# Evaluamos el modelo en el conjunto de prueba\n",
    "y_pred_prob = modelo_nn.predict(X_test)\n",
    "y_pred = (y_pred_prob >= 0.5).astype(int)\n",
    "\n",
    "# Calculamos métricas de evaluación\n",
    "conf_matrix_nn = confusion_matrix(y_test, y_pred)\n",
    "accuracy_nn = accuracy_score(y_test, y_pred)\n",
    "classification_rep_nn = classification_report(y_test, y_pred)\n",
    "\n",
    "# Mostramos los resultados\n",
    "print(\"Matriz de Confusión:\")\n",
    "print(conf_matrix_nn)\n",
    "print(\"\\nReporte de Clasificación:\")\n",
    "print(classification_rep_nn)\n",
    "print(f\"\\nExactitud del modelo: {accuracy_nn:.4f}\")"
   ]
  },
  {
   "cell_type": "code",
   "execution_count": null,
   "metadata": {},
   "outputs": [
    {
     "data": {
      "image/png": "[encoded data removed]",
      "text/plain": [
       "<Figure size 600x500 with 2 Axes>"
      ]
     },
     "metadata": {},
     "output_type": "display_data"
    }
   ],
   "source": [
    "\n",
    "def plot_confusion_matrix(conf_matrix, labels=['Falso', 'Verdadero']):\n",
    "    plt.figure(figsize=(6, 5))\n",
    "    sns.heatmap(conf_matrix, annot=True, fmt='d', cmap='Blues', xticklabels=labels, yticklabels=labels, linewidths=0.5, linecolor='black')\n",
    "    \n",
    "    plt.xlabel('Predicción')\n",
    "    plt.ylabel('Real')\n",
    "    plt.title('Matriz de Confusión')\n",
    "    plt.show()\n",
    "\n",
    "plot_confusion_matrix(conf_matrix_nn)"
   ]
  },
  {
   "cell_type": "markdown",
   "metadata": {},
   "source": [
    "Explicación de los valores del modelo\n",
    "\n",
    "* Verdaderos Negativos (3968): Noticias falsas correctamente identificadas como falsas.\n",
    "* Falsos Positivos (813): Noticias verdaderas clasificadas incorrectamente como falsas.\n",
    "* Falsos Negativos (534): Noticias falsas clasificadas incorrectamente como verdaderas.\n",
    "* Verdaderos Positivos (6098): Noticias verdaderas correctamente identificadas como verdaderas."
   ]
  },
  {
   "cell_type": "markdown",
   "metadata": {},
   "source": [
    "Conslusiones iniciales:\n",
    "* El modelo es confiable para detectar noticias verdaderas (92% recall), pero tiene dificultades para identificar noticias falsas (solo 88% de recall).\n",
    "\n",
    "* El principal problema son los falsos negativos (534 noticias falsas clasificadas erróneamente como verdaderas), lo que indica que algunas noticias falsas podrían pasar desapercibidas.\n",
    "\n",
    "* Aunque la precisión general del modelo es alta, si el objetivo es minimizar la propagación de noticias falsas, se debe mejorar el recall en la detección de estas mediante ajustes en el umbral de clasificación o técnicas de balanceo de datos."
   ]
  },
  {
   "cell_type": "markdown",
   "metadata": {},
   "source": [
    "##### 4.4.2. Modificación del umbral de decisión"
   ]
  },
  {
   "cell_type": "code",
   "execution_count": 33,
   "metadata": {},
   "outputs": [
    {
     "name": "stdout",
     "output_type": "stream",
     "text": [
      "\u001b[1m357/357\u001b[0m \u001b[32m━━━━━━━━━━━━━━━━━━━━\u001b[0m\u001b[37m\u001b[0m \u001b[1m1s\u001b[0m 2ms/step\n"
     ]
    },
    {
     "data": {
      "image/png": "[encoded data removed]",
      "text/plain": [
       "<Figure size 800x600 with 1 Axes>"
      ]
     },
     "metadata": {},
     "output_type": "display_data"
    }
   ],
   "source": [
    "# Obtenemos las probabilidades de predicción en el conjunto de prueba\n",
    "y_prob_nn = modelo_nn.predict(X_test)[:, 0]  # Probabilidad de ser noticia verdadera (Clase 1)\n",
    "\n",
    "# Calculamos Precision, Recall y Umbrales automáticamente\n",
    "precisions_nn, recalls_nn, thresholds_nn = precision_recall_curve(y_test, y_prob_nn)\n",
    "\n",
    "# Graficamos Precision-Recall para diferentes umbrales\n",
    "plt.figure(figsize=(8, 6))\n",
    "plt.plot(thresholds_nn, precisions_nn[:-1], label=\"Precisión\")\n",
    "plt.plot(thresholds_nn, recalls_nn[:-1], label=\"Recall\")\n",
    "plt.xlabel(\"Umbral de clasificación\")\n",
    "plt.ylabel(\"Métrica\")\n",
    "plt.legend()\n",
    "plt.title(\"Precisión y Recall en función del Umbral de Clasificación (Red Neuronal)\")\n",
    "plt.grid()\n",
    "plt.show()"
   ]
  },
  {
   "cell_type": "markdown",
   "metadata": {},
   "source": [
    "El punto de equilibrio lo encontramos entre 0.6 y 0.8 podemos empezar a experimentar con estos valores y evaluar los resultados."
   ]
  },
  {
   "cell_type": "code",
   "execution_count": 38,
   "metadata": {},
   "outputs": [
    {
     "data": {
      "image/png": "[encoded data removed]",
      "text/plain": [
       "<Figure size 600x500 with 2 Axes>"
      ]
     },
     "metadata": {},
     "output_type": "display_data"
    },
    {
     "name": "stdout",
     "output_type": "stream",
     "text": [
      "Exactitud con nuevo umbral NN: 0.8753\n",
      "\n",
      "Nueva Matriz de Confusión (NN):\n",
      "[[4048  733]\n",
      " [ 690 5942]]\n",
      "\n",
      "Nuevo Reporte de Clasificación (NN):\n",
      "              precision    recall  f1-score   support\n",
      "\n",
      "           0       0.85      0.85      0.85      4781\n",
      "           1       0.89      0.90      0.89      6632\n",
      "\n",
      "    accuracy                           0.88     11413\n",
      "   macro avg       0.87      0.87      0.87     11413\n",
      "weighted avg       0.88      0.88      0.88     11413\n",
      "\n"
     ]
    }
   ],
   "source": [
    "# Definir un nuevo umbral específico para la red neuronal\n",
    "nuevo_umbral_nn = 0.65  \n",
    "\n",
    "# Aplicar el nuevo umbral para clasificar\n",
    "y_pred_nuevo_nn = (y_prob_nn >= nuevo_umbral_nn).astype(int)\n",
    "\n",
    "# Calcular la nueva matriz de confusión\n",
    "conf_matrix_nuevo_nn = confusion_matrix(y_test, y_pred_nuevo_nn)\n",
    "\n",
    "# Visualización de la nueva matriz de confusión\n",
    "plt.figure(figsize=(6, 5))\n",
    "sns.heatmap(conf_matrix_nuevo_nn, annot=True, fmt='d', cmap='Blues', xticklabels=['Falso', 'Verdadero'], \n",
    "            yticklabels=['Falso', 'Verdadero'], linewidths=0.5, linecolor='black')\n",
    "\n",
    "plt.xlabel('Predicción')\n",
    "plt.ylabel('Real')\n",
    "plt.title(f'Matriz de Confusión (Umbral NN = {nuevo_umbral_nn})')\n",
    "plt.show()\n",
    "\n",
    "# Calcular nuevas métricas\n",
    "accuracy_nuevo_nn = accuracy_score(y_test, y_pred_nuevo_nn)\n",
    "classification_rep_nuevo_nn = classification_report(y_test, y_pred_nuevo_nn)\n",
    "\n",
    "print(f\"Exactitud con nuevo umbral NN: {accuracy_nuevo_nn:.4f}\")\n",
    "print(\"\\nNueva Matriz de Confusión (NN):\")\n",
    "print(conf_matrix_nuevo_nn)\n",
    "print(\"\\nNuevo Reporte de Clasificación (NN):\")\n",
    "print(classification_rep_nuevo_nn)"
   ]
  },
  {
   "cell_type": "markdown",
   "metadata": {},
   "source": [
    "**Análisis de los nuevos resultados:**\n",
    "El nuevo umbral de 0.65 reduce los falsos positivos (de 813 a 733), lo que mejora la precisión al clasificar noticias falsas, pero también aumenta los falsos negativos (de 534 a 690), lo que significa que más noticias falsas son clasificadas incorrectamente como verdaderas. Si el objetivo es minimizar la propagación de noticias falsas, el umbral anterior de 0.5 es mejor, ya que detecta más noticias falsas correctamente. En cambio, si se busca evitar clasificar noticias verdaderas como falsas, el umbral 0.65 es más adecuado"
   ]
  },
  {
   "cell_type": "code",
   "execution_count": null,
   "metadata": {},
   "outputs": [],
   "source": []
  }
 ],
 "metadata": {
  "kernelspec": {
   "display_name": "Python 3",
   "language": "python",
   "name": "python3"
  },
  "language_info": {
   "codemirror_mode": {
    "name": "ipython",
    "version": 3
   },
   "file_extension": ".py",
   "mimetype": "text/x-python",
   "name": "python",
   "nbconvert_exporter": "python",
   "pygments_lexer": "ipython3",
   "version": "3.11.9"
  }
 },
 "nbformat": 4,
 "nbformat_minor": 2
}
