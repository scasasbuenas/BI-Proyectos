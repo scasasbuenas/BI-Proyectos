{
 "cells": [
  {
   "cell_type": "markdown",
   "metadata": {},
   "source": [
    "# Sección 2. Entendimiento y Preparación de los datos"
   ]
  },
  {
   "cell_type": "markdown",
   "metadata": {},
   "source": [
    "Esta sección tiene como propósito exponer el entendimiento y la preparación de los textos para posteriormente utilizarlos en la implementación de los modelos de aprendizaje. Para la manipulación de los datos se usarán librerias como **pandas** y **numpy**. Para la visualización se utilizarán **matplotlib**, **seaborn** y **WordCloud**."
   ]
  },
  {
   "cell_type": "markdown",
   "metadata": {},
   "source": [
    "## 1. Instalación e importación de librerias"
   ]
  },
  {
   "cell_type": "markdown",
   "metadata": {},
   "source": [
    "### Instalación"
   ]
  },
  {
   "cell_type": "code",
   "execution_count": 88,
   "metadata": {},
   "outputs": [],
   "source": [
    "#%pip install pandas numpy matplotlib seaborn scikit-learn nltk spacy wordcloud tqdm\n",
    "#%pip install spacy-langdetect\n",
    "#!python -m spacy download es_core_news_sm\n"
   ]
  },
  {
   "cell_type": "code",
   "execution_count": 89,
   "metadata": {},
   "outputs": [
    {
     "name": "stderr",
     "output_type": "stream",
     "text": [
      "[nltk_data] Downloading package stopwords to\n",
      "[nltk_data]     C:\\Users\\santi\\AppData\\Roaming\\nltk_data...\n",
      "[nltk_data]   Package stopwords is already up-to-date!\n"
     ]
    }
   ],
   "source": [
    "# Manipulación de datos\n",
    "import pandas as pd\n",
    "import numpy as np\n",
    "\n",
    "# Visualización\n",
    "import matplotlib.pyplot as plt\n",
    "import seaborn as sns\n",
    "from wordcloud import WordCloud\n",
    "\n",
    "# Procesamiento de texto\n",
    "import re\n",
    "import string\n",
    "import spacy\n",
    "from spacy_langdetect import LanguageDetector\n",
    "import re\n",
    "import unicodedata\n",
    "\n",
    "import nltk\n",
    "from nltk.stem import SnowballStemmer, WordNetLemmatizer\n",
    "from nltk.corpus import wordnet\n",
    "from nltk.corpus import stopwords\n",
    "\n",
    "# Modelado y evaluación\n",
    "from sklearn.model_selection import train_test_split\n",
    "from sklearn.feature_extraction.text import TfidfVectorizer, CountVectorizer\n",
    "from sklearn.naive_bayes import MultinomialNB\n",
    "from sklearn.linear_model import LogisticRegression\n",
    "from sklearn.ensemble import RandomForestClassifier\n",
    "from sklearn.metrics import accuracy_score, classification_report, confusion_matrix, recall_score, precision_score, f1_score, ConfusionMatrixDisplay\n",
    "from sklearn.tree import DecisionTreeClassifier\n",
    "\n",
    "# Progreso en bucles\n",
    "from tqdm import tqdm\n",
    "\n",
    "from collections import Counter\n",
    "from ydata_profiling import ProfileReport\n",
    "from scipy.sparse import hstack\n",
    "\n",
    "\n",
    "# Cargar modelo en español de spaCy\n",
    "nlp = spacy.load(\"es_core_news_sm\")\n",
    "\n",
    "# Descargar stopwords de NLTK en español\n",
    "nltk.download('stopwords')\n",
    "stopwords_es = set(stopwords.words('spanish'))\n",
    "\n",
    "# Configuración de visualización\n",
    "sns.set_style(\"whitegrid\")\n",
    "plt.rcParams[\"figure.figsize\"] = (10,5)\n"
   ]
  },
  {
   "cell_type": "markdown",
   "metadata": {},
   "source": [
    "## 2. Perfilamiento y entendimiento de los datos"
   ]
  },
  {
   "cell_type": "markdown",
   "metadata": {},
   "source": [
    "### Lectura de los datos"
   ]
  },
  {
   "cell_type": "markdown",
   "metadata": {},
   "source": [
    "Procedemos a cargar los datos y a revisar su estructura."
   ]
  },
  {
   "cell_type": "code",
   "execution_count": 90,
   "metadata": {},
   "outputs": [],
   "source": [
    "# Cargar datos\n",
    "data=pd.read_csv('fake_news_spanish.csv', sep=';', encoding = \"utf-8\")\n",
    "\n",
    "news_df = data.copy()"
   ]
  },
  {
   "cell_type": "code",
   "execution_count": 91,
   "metadata": {},
   "outputs": [
    {
     "name": "stdout",
     "output_type": "stream",
     "text": [
      "<class 'pandas.core.frame.DataFrame'>\n",
      "RangeIndex: 57063 entries, 0 to 57062\n",
      "Data columns (total 5 columns):\n",
      " #   Column       Non-Null Count  Dtype \n",
      "---  ------       --------------  ----- \n",
      " 0   ID           57063 non-null  object\n",
      " 1   Label        57063 non-null  int64 \n",
      " 2   Titulo       57047 non-null  object\n",
      " 3   Descripcion  57063 non-null  object\n",
      " 4   Fecha        57063 non-null  object\n",
      "dtypes: int64(1), object(4)\n",
      "memory usage: 2.2+ MB\n"
     ]
    }
   ],
   "source": [
    "news_df.info()  "
   ]
  },
  {
   "cell_type": "code",
   "execution_count": 92,
   "metadata": {},
   "outputs": [
    {
     "data": {
      "text/html": [
       "<div>\n",
       "<style scoped>\n",
       "    .dataframe tbody tr th:only-of-type {\n",
       "        vertical-align: middle;\n",
       "    }\n",
       "\n",
       "    .dataframe tbody tr th {\n",
       "        vertical-align: top;\n",
       "    }\n",
       "\n",
       "    .dataframe thead th {\n",
       "        text-align: right;\n",
       "    }\n",
       "</style>\n",
       "<table border=\"1\" class=\"dataframe\">\n",
       "  <thead>\n",
       "    <tr style=\"text-align: right;\">\n",
       "      <th></th>\n",
       "      <th>ID</th>\n",
       "      <th>Label</th>\n",
       "      <th>Titulo</th>\n",
       "      <th>Descripcion</th>\n",
       "      <th>Fecha</th>\n",
       "    </tr>\n",
       "  </thead>\n",
       "  <tbody>\n",
       "    <tr>\n",
       "      <th>0</th>\n",
       "      <td>ID</td>\n",
       "      <td>1</td>\n",
       "      <td>'The Guardian' va con Sánchez: 'Europa necesit...</td>\n",
       "      <td>El diario británico publicó este pasado jueves...</td>\n",
       "      <td>02/06/2023</td>\n",
       "    </tr>\n",
       "    <tr>\n",
       "      <th>1</th>\n",
       "      <td>ID</td>\n",
       "      <td>0</td>\n",
       "      <td>REVELAN QUE EL GOBIERNO NEGOCIO LA LIBERACIÓN ...</td>\n",
       "      <td>REVELAN QUE EL GOBIERNO NEGOCIO LA LIBERACIÓN ...</td>\n",
       "      <td>01/10/2023</td>\n",
       "    </tr>\n",
       "    <tr>\n",
       "      <th>2</th>\n",
       "      <td>ID</td>\n",
       "      <td>1</td>\n",
       "      <td>El 'Ahora o nunca' de Joan Fuster sobre el est...</td>\n",
       "      <td>El valencianismo convoca en Castelló su fiesta...</td>\n",
       "      <td>25/04/2022</td>\n",
       "    </tr>\n",
       "    <tr>\n",
       "      <th>3</th>\n",
       "      <td>ID</td>\n",
       "      <td>1</td>\n",
       "      <td>Iglesias alienta a Yolanda Díaz, ERC y EH Bild...</td>\n",
       "      <td>En política, igual que hay que negociar con lo...</td>\n",
       "      <td>03/01/2022</td>\n",
       "    </tr>\n",
       "    <tr>\n",
       "      <th>4</th>\n",
       "      <td>ID</td>\n",
       "      <td>0</td>\n",
       "      <td>Puigdemont: 'No sería ninguna tragedia una rep...</td>\n",
       "      <td>En una entrevista en El Punt Avui, el líder de...</td>\n",
       "      <td>09/03/2018</td>\n",
       "    </tr>\n",
       "  </tbody>\n",
       "</table>\n",
       "</div>"
      ],
      "text/plain": [
       "   ID  Label                                             Titulo  \\\n",
       "0  ID      1  'The Guardian' va con Sánchez: 'Europa necesit...   \n",
       "1  ID      0  REVELAN QUE EL GOBIERNO NEGOCIO LA LIBERACIÓN ...   \n",
       "2  ID      1  El 'Ahora o nunca' de Joan Fuster sobre el est...   \n",
       "3  ID      1  Iglesias alienta a Yolanda Díaz, ERC y EH Bild...   \n",
       "4  ID      0  Puigdemont: 'No sería ninguna tragedia una rep...   \n",
       "\n",
       "                                         Descripcion       Fecha  \n",
       "0  El diario británico publicó este pasado jueves...  02/06/2023  \n",
       "1  REVELAN QUE EL GOBIERNO NEGOCIO LA LIBERACIÓN ...  01/10/2023  \n",
       "2  El valencianismo convoca en Castelló su fiesta...  25/04/2022  \n",
       "3  En política, igual que hay que negociar con lo...  03/01/2022  \n",
       "4  En una entrevista en El Punt Avui, el líder de...  09/03/2018  "
      ]
     },
     "execution_count": 92,
     "metadata": {},
     "output_type": "execute_result"
    }
   ],
   "source": [
    "news_df.head()"
   ]
  },
  {
   "cell_type": "markdown",
   "metadata": {},
   "source": [
    "Entendemos entonces, que tenemos una variable objetivo llamada *'Label'* la cual determina si una historia es falsa o no. Adicionalmente, identificamos otras variables como el *'Titulo'* de la historia y su *'Descripción'*. Adicionalmente, la *'Fecha'* es probablemente la fecha de publicación. "
   ]
  },
  {
   "cell_type": "markdown",
   "metadata": {},
   "source": [
    "### Entendimiento de los Datos"
   ]
  },
  {
   "cell_type": "markdown",
   "metadata": {},
   "source": [
    "#### Estadísticas descriptivas"
   ]
  },
  {
   "cell_type": "markdown",
   "metadata": {},
   "source": [
    "El entendimiento de los datos consiste en analizar las estadísticas que describen nuestras variables. En este sentido, haremos un conteo preliminar de las palabras en el título de cada noticia, la moda, el mínimo y el máximo."
   ]
  },
  {
   "cell_type": "code",
   "execution_count": 93,
   "metadata": {},
   "outputs": [
    {
     "data": {
      "text/html": [
       "<div>\n",
       "<style scoped>\n",
       "    .dataframe tbody tr th:only-of-type {\n",
       "        vertical-align: middle;\n",
       "    }\n",
       "\n",
       "    .dataframe tbody tr th {\n",
       "        vertical-align: top;\n",
       "    }\n",
       "\n",
       "    .dataframe thead th {\n",
       "        text-align: right;\n",
       "    }\n",
       "</style>\n",
       "<table border=\"1\" class=\"dataframe\">\n",
       "  <thead>\n",
       "    <tr style=\"text-align: right;\">\n",
       "      <th></th>\n",
       "      <th>ID</th>\n",
       "      <th>Label</th>\n",
       "      <th>Titulo</th>\n",
       "      <th>Descripcion</th>\n",
       "      <th>Fecha</th>\n",
       "      <th>Conteo</th>\n",
       "      <th>Moda</th>\n",
       "      <th>Max</th>\n",
       "      <th>Min</th>\n",
       "    </tr>\n",
       "  </thead>\n",
       "  <tbody>\n",
       "    <tr>\n",
       "      <th>0</th>\n",
       "      <td>ID</td>\n",
       "      <td>1</td>\n",
       "      <td>'The Guardian' va con Sánchez: 'Europa necesit...</td>\n",
       "      <td>El diario británico publicó este pasado jueves...</td>\n",
       "      <td>02/06/2023</td>\n",
       "      <td>77</td>\n",
       "      <td>the</td>\n",
       "      <td>9</td>\n",
       "      <td>2</td>\n",
       "    </tr>\n",
       "    <tr>\n",
       "      <th>1</th>\n",
       "      <td>ID</td>\n",
       "      <td>0</td>\n",
       "      <td>REVELAN QUE EL GOBIERNO NEGOCIO LA LIBERACIÓN ...</td>\n",
       "      <td>REVELAN QUE EL GOBIERNO NEGOCIO LA LIBERACIÓN ...</td>\n",
       "      <td>01/10/2023</td>\n",
       "      <td>104</td>\n",
       "      <td>el</td>\n",
       "      <td>10</td>\n",
       "      <td>1</td>\n",
       "    </tr>\n",
       "    <tr>\n",
       "      <th>2</th>\n",
       "      <td>ID</td>\n",
       "      <td>1</td>\n",
       "      <td>El 'Ahora o nunca' de Joan Fuster sobre el est...</td>\n",
       "      <td>El valencianismo convoca en Castelló su fiesta...</td>\n",
       "      <td>25/04/2022</td>\n",
       "      <td>77</td>\n",
       "      <td>el</td>\n",
       "      <td>10</td>\n",
       "      <td>1</td>\n",
       "    </tr>\n",
       "    <tr>\n",
       "      <th>3</th>\n",
       "      <td>ID</td>\n",
       "      <td>1</td>\n",
       "      <td>Iglesias alienta a Yolanda Díaz, ERC y EH Bild...</td>\n",
       "      <td>En política, igual que hay que negociar con lo...</td>\n",
       "      <td>03/01/2022</td>\n",
       "      <td>110</td>\n",
       "      <td>a</td>\n",
       "      <td>12</td>\n",
       "      <td>1</td>\n",
       "    </tr>\n",
       "    <tr>\n",
       "      <th>4</th>\n",
       "      <td>ID</td>\n",
       "      <td>0</td>\n",
       "      <td>Puigdemont: 'No sería ninguna tragedia una rep...</td>\n",
       "      <td>En una entrevista en El Punt Avui, el líder de...</td>\n",
       "      <td>09/03/2018</td>\n",
       "      <td>72</td>\n",
       "      <td>puigdemont</td>\n",
       "      <td>11</td>\n",
       "      <td>2</td>\n",
       "    </tr>\n",
       "  </tbody>\n",
       "</table>\n",
       "</div>"
      ],
      "text/plain": [
       "   ID  Label                                             Titulo  \\\n",
       "0  ID      1  'The Guardian' va con Sánchez: 'Europa necesit...   \n",
       "1  ID      0  REVELAN QUE EL GOBIERNO NEGOCIO LA LIBERACIÓN ...   \n",
       "2  ID      1  El 'Ahora o nunca' de Joan Fuster sobre el est...   \n",
       "3  ID      1  Iglesias alienta a Yolanda Díaz, ERC y EH Bild...   \n",
       "4  ID      0  Puigdemont: 'No sería ninguna tragedia una rep...   \n",
       "\n",
       "                                         Descripcion       Fecha  Conteo  \\\n",
       "0  El diario británico publicó este pasado jueves...  02/06/2023      77   \n",
       "1  REVELAN QUE EL GOBIERNO NEGOCIO LA LIBERACIÓN ...  01/10/2023     104   \n",
       "2  El valencianismo convoca en Castelló su fiesta...  25/04/2022      77   \n",
       "3  En política, igual que hay que negociar con lo...  03/01/2022     110   \n",
       "4  En una entrevista en El Punt Avui, el líder de...  09/03/2018      72   \n",
       "\n",
       "         Moda  Max  Min  \n",
       "0         the    9    2  \n",
       "1          el   10    1  \n",
       "2          el   10    1  \n",
       "3           a   12    1  \n",
       "4  puigdemont   11    2  "
      ]
     },
     "execution_count": 93,
     "metadata": {},
     "output_type": "execute_result"
    }
   ],
   "source": [
    "news_df['Conteo'] = [len(str(x)) for x in news_df['Titulo']]\n",
    "news_df['Moda'] = [Counter([word.lower().strip(string.punctuation) for word in (str(i).split(' '))]).most_common()[0][0] for i in news_df['Titulo']]\n",
    "news_df['Max'] = [[max([len(x) for x in str(i).split(' ')])][0] for i in news_df['Titulo']]\n",
    "news_df['Min'] = [[min([len(x) for x in str(i).split(' ')])][0] for i in news_df['Titulo']]\n",
    "\n",
    "news_df.head()"
   ]
  },
  {
   "cell_type": "markdown",
   "metadata": {},
   "source": [
    "#### Perfilamiento de los datos"
   ]
  },
  {
   "cell_type": "markdown",
   "metadata": {},
   "source": [
    "En cuanto al perfilamiento de los datos, se hará uso de ydata profiling para ir aún más a fondo en los datos que buscamos describir."
   ]
  },
  {
   "cell_type": "code",
   "execution_count": 94,
   "metadata": {},
   "outputs": [],
   "source": [
    "##profile = ProfileReport(news_df, title=\"Pandas Profiling Report\")\n",
    "##profile"
   ]
  },
  {
   "cell_type": "markdown",
   "metadata": {},
   "source": [
    "Como podemos observar, debemos ser muy cuidadosos a la hora de analisar el tema de datos duplicados y demás estadísticas cuando manejamos datos de texto. Hacer una limpieza y preparar los datos vale la pena teniendo en cuenta que la mayoria de valores obtenidos se ven alterados por lo que denominaremos como ruido."
   ]
  },
  {
   "cell_type": "markdown",
   "metadata": {},
   "source": [
    "## 3. Preparación de los datos"
   ]
  },
  {
   "cell_type": "markdown",
   "metadata": {},
   "source": [
    "### 3.1. Limpieza de datos.\n",
    "\n",
    "Este código implementa un proceso de preprocesamiento de texto para limpiar datos textuales antes de realizar análisis de texto o procesamiento de lenguaje natural.El preprocesamiento se aplica a dos columnas de un DataFrame (Titulo y Descripcion), generando nuevas columnas con los textos limpios (Titulo_Limpio y Descripcion_Limpia). Este paso es fundamental porque ayuda a reducir el ruido en los datos, mejora la precisión de los modelos y facilita la extracción de información relevante eliminando términos irrelevantes o redundantes.\n"
   ]
  },
  {
   "cell_type": "code",
   "execution_count": 95,
   "metadata": {},
   "outputs": [
    {
     "data": {
      "text/html": [
       "<div>\n",
       "<style scoped>\n",
       "    .dataframe tbody tr th:only-of-type {\n",
       "        vertical-align: middle;\n",
       "    }\n",
       "\n",
       "    .dataframe tbody tr th {\n",
       "        vertical-align: top;\n",
       "    }\n",
       "\n",
       "    .dataframe thead th {\n",
       "        text-align: right;\n",
       "    }\n",
       "</style>\n",
       "<table border=\"1\" class=\"dataframe\">\n",
       "  <thead>\n",
       "    <tr style=\"text-align: right;\">\n",
       "      <th></th>\n",
       "      <th>Label</th>\n",
       "      <th>Titulo</th>\n",
       "      <th>Descripcion</th>\n",
       "      <th>Titulo_Limpio</th>\n",
       "      <th>Descripcion_Limpia</th>\n",
       "    </tr>\n",
       "  </thead>\n",
       "  <tbody>\n",
       "    <tr>\n",
       "      <th>0</th>\n",
       "      <td>1</td>\n",
       "      <td>'The Guardian' va con Sánchez: 'Europa necesit...</td>\n",
       "      <td>El diario británico publicó este pasado jueves...</td>\n",
       "      <td>the guardian va sanchez europa necesita apuest...</td>\n",
       "      <td>diario britanico publico pasado jueves editori...</td>\n",
       "    </tr>\n",
       "    <tr>\n",
       "      <th>1</th>\n",
       "      <td>0</td>\n",
       "      <td>REVELAN QUE EL GOBIERNO NEGOCIO LA LIBERACIÓN ...</td>\n",
       "      <td>REVELAN QUE EL GOBIERNO NEGOCIO LA LIBERACIÓN ...</td>\n",
       "      <td>revelan gobierno negocio liberacion mireles ca...</td>\n",
       "      <td>revelan gobierno negocio liberacion mireles ca...</td>\n",
       "    </tr>\n",
       "    <tr>\n",
       "      <th>2</th>\n",
       "      <td>1</td>\n",
       "      <td>El 'Ahora o nunca' de Joan Fuster sobre el est...</td>\n",
       "      <td>El valencianismo convoca en Castelló su fiesta...</td>\n",
       "      <td>ahora nunca joan fuster estatuto valenciano cu...</td>\n",
       "      <td>valencianismo convoca castello fiesta grande c...</td>\n",
       "    </tr>\n",
       "    <tr>\n",
       "      <th>3</th>\n",
       "      <td>1</td>\n",
       "      <td>Iglesias alienta a Yolanda Díaz, ERC y EH Bild...</td>\n",
       "      <td>En política, igual que hay que negociar con lo...</td>\n",
       "      <td>iglesias alienta yolanda diaz erc eh bildu neg...</td>\n",
       "      <td>politica igual negociar empresarios negociar g...</td>\n",
       "    </tr>\n",
       "    <tr>\n",
       "      <th>4</th>\n",
       "      <td>0</td>\n",
       "      <td>Puigdemont: 'No sería ninguna tragedia una rep...</td>\n",
       "      <td>En una entrevista en El Punt Avui, el líder de...</td>\n",
       "      <td>puigdemont seria ninguna tragedia repeticion e...</td>\n",
       "      <td>entrevista punt avui lider jxcat desdramatizad...</td>\n",
       "    </tr>\n",
       "  </tbody>\n",
       "</table>\n",
       "</div>"
      ],
      "text/plain": [
       "   Label                                             Titulo  \\\n",
       "0      1  'The Guardian' va con Sánchez: 'Europa necesit...   \n",
       "1      0  REVELAN QUE EL GOBIERNO NEGOCIO LA LIBERACIÓN ...   \n",
       "2      1  El 'Ahora o nunca' de Joan Fuster sobre el est...   \n",
       "3      1  Iglesias alienta a Yolanda Díaz, ERC y EH Bild...   \n",
       "4      0  Puigdemont: 'No sería ninguna tragedia una rep...   \n",
       "\n",
       "                                         Descripcion  \\\n",
       "0  El diario británico publicó este pasado jueves...   \n",
       "1  REVELAN QUE EL GOBIERNO NEGOCIO LA LIBERACIÓN ...   \n",
       "2  El valencianismo convoca en Castelló su fiesta...   \n",
       "3  En política, igual que hay que negociar con lo...   \n",
       "4  En una entrevista en El Punt Avui, el líder de...   \n",
       "\n",
       "                                       Titulo_Limpio  \\\n",
       "0  the guardian va sanchez europa necesita apuest...   \n",
       "1  revelan gobierno negocio liberacion mireles ca...   \n",
       "2  ahora nunca joan fuster estatuto valenciano cu...   \n",
       "3  iglesias alienta yolanda diaz erc eh bildu neg...   \n",
       "4  puigdemont seria ninguna tragedia repeticion e...   \n",
       "\n",
       "                                  Descripcion_Limpia  \n",
       "0  diario britanico publico pasado jueves editori...  \n",
       "1  revelan gobierno negocio liberacion mireles ca...  \n",
       "2  valencianismo convoca castello fiesta grande c...  \n",
       "3  politica igual negociar empresarios negociar g...  \n",
       "4  entrevista punt avui lider jxcat desdramatizad...  "
      ]
     },
     "execution_count": 95,
     "metadata": {},
     "output_type": "execute_result"
    }
   ],
   "source": [
    "import nltk\n",
    "import unicodedata\n",
    "import re\n",
    "from nltk.tokenize import word_tokenize\n",
    "from nltk.corpus import stopwords\n",
    "\n",
    "news_df = news_df[[\"Label\", \"Titulo\", \"Descripcion\"]]\n",
    "\n",
    "# Funciones de preprocesamiento\n",
    "def remove_non_ascii(words):\n",
    "    \"\"\"Remueve caracteres no ASCII de una lista de palabras\"\"\"\n",
    "    return [unicodedata.normalize('NFKD', word).encode('ascii', 'ignore').decode('utf-8', 'ignore') for word in words if word]\n",
    "\n",
    "def to_lowercase(words):\n",
    "    \"\"\"Convierte todas las palabras a minúsculas\"\"\"\n",
    "    return [word.lower() for word in words if word]\n",
    "\n",
    "def remove_punctuation(words):\n",
    "    \"\"\"Elimina signos de puntuación\"\"\"\n",
    "    return [re.sub(r'[^\\w\\s]', '', word) for word in words if re.sub(r'[^\\w\\s]', '', word) != '']\n",
    "\n",
    "def remove_numbers(words):\n",
    "    \"\"\"Elimina los números de la lista de palabras\"\"\"\n",
    "    return [word for word in words if not word.isdigit()]\n",
    "\n",
    "def remove_stopwords(words):\n",
    "    \"\"\"Elimina stopwords en español\"\"\"\n",
    "    return [word for word in words if word not in stopwords_es]\n",
    "\n",
    "def preprocessing(text):\n",
    "    \"\"\"Aplica todas las funciones de limpieza de texto a un string\"\"\"\n",
    "    words = word_tokenize(text, language=\"spanish\")  # Tokenizar con NLTK\n",
    "    words = to_lowercase(words)\n",
    "    words = remove_non_ascii(words)\n",
    "    words = remove_punctuation(words)\n",
    "    words = remove_numbers(words)\n",
    "    words = remove_stopwords(words)\n",
    "    return \" \".join(words)  # Retorna el texto limpio como un string\n",
    "\n",
    "# Aplicar limpieza en el DataFrame\n",
    "news_df['Titulo_Limpio'] = news_df['Titulo'].astype(str).apply(preprocessing)\n",
    "news_df['Descripcion_Limpia'] = news_df['Descripcion'].astype(str).apply(preprocessing)\n",
    "\n",
    "# Comparación antes y después\n",
    "news_df.head()\n"
   ]
  },
  {
   "cell_type": "markdown",
   "metadata": {},
   "source": [
    "### 3.2. Tokenización\n",
    "\n",
    "Este código realiza la tokenización de texto. Esta tokenización se aplica a las columnas ya limpias del DataFrame (Titulo_Limpio y Descripcion_Limpia), generando nuevas columnas Titulo_Tokens y Descripcion_Tokens, donde cada texto se representa como una lista de palabras. Este paso es crucial porque permite a los modelos de análisis de texto procesar los datos de manera estructurada.\n"
   ]
  },
  {
   "cell_type": "code",
   "execution_count": 96,
   "metadata": {},
   "outputs": [
    {
     "name": "stdout",
     "output_type": "stream",
     "text": [
      "Comparación después de la tokenización:\n"
     ]
    },
    {
     "data": {
      "text/html": [
       "<div>\n",
       "<style scoped>\n",
       "    .dataframe tbody tr th:only-of-type {\n",
       "        vertical-align: middle;\n",
       "    }\n",
       "\n",
       "    .dataframe tbody tr th {\n",
       "        vertical-align: top;\n",
       "    }\n",
       "\n",
       "    .dataframe thead th {\n",
       "        text-align: right;\n",
       "    }\n",
       "</style>\n",
       "<table border=\"1\" class=\"dataframe\">\n",
       "  <thead>\n",
       "    <tr style=\"text-align: right;\">\n",
       "      <th></th>\n",
       "      <th>Label</th>\n",
       "      <th>Titulo</th>\n",
       "      <th>Descripcion</th>\n",
       "      <th>Titulo_Limpio</th>\n",
       "      <th>Descripcion_Limpia</th>\n",
       "      <th>Titulo_Tokens</th>\n",
       "      <th>Descripcion_Tokens</th>\n",
       "    </tr>\n",
       "  </thead>\n",
       "  <tbody>\n",
       "    <tr>\n",
       "      <th>0</th>\n",
       "      <td>1</td>\n",
       "      <td>'The Guardian' va con Sánchez: 'Europa necesit...</td>\n",
       "      <td>El diario británico publicó este pasado jueves...</td>\n",
       "      <td>the guardian va sanchez europa necesita apuest...</td>\n",
       "      <td>diario britanico publico pasado jueves editori...</td>\n",
       "      <td>[the, guardian, va, sanchez, europa, necesita,...</td>\n",
       "      <td>[diario, britanico, publico, pasado, jueves, e...</td>\n",
       "    </tr>\n",
       "    <tr>\n",
       "      <th>1</th>\n",
       "      <td>0</td>\n",
       "      <td>REVELAN QUE EL GOBIERNO NEGOCIO LA LIBERACIÓN ...</td>\n",
       "      <td>REVELAN QUE EL GOBIERNO NEGOCIO LA LIBERACIÓN ...</td>\n",
       "      <td>revelan gobierno negocio liberacion mireles ca...</td>\n",
       "      <td>revelan gobierno negocio liberacion mireles ca...</td>\n",
       "      <td>[revelan, gobierno, negocio, liberacion, mirel...</td>\n",
       "      <td>[revelan, gobierno, negocio, liberacion, mirel...</td>\n",
       "    </tr>\n",
       "    <tr>\n",
       "      <th>2</th>\n",
       "      <td>1</td>\n",
       "      <td>El 'Ahora o nunca' de Joan Fuster sobre el est...</td>\n",
       "      <td>El valencianismo convoca en Castelló su fiesta...</td>\n",
       "      <td>ahora nunca joan fuster estatuto valenciano cu...</td>\n",
       "      <td>valencianismo convoca castello fiesta grande c...</td>\n",
       "      <td>[ahora, nunca, joan, fuster, estatuto, valenci...</td>\n",
       "      <td>[valencianismo, convoca, castello, fiesta, gra...</td>\n",
       "    </tr>\n",
       "    <tr>\n",
       "      <th>3</th>\n",
       "      <td>1</td>\n",
       "      <td>Iglesias alienta a Yolanda Díaz, ERC y EH Bild...</td>\n",
       "      <td>En política, igual que hay que negociar con lo...</td>\n",
       "      <td>iglesias alienta yolanda diaz erc eh bildu neg...</td>\n",
       "      <td>politica igual negociar empresarios negociar g...</td>\n",
       "      <td>[iglesias, alienta, yolanda, diaz, erc, eh, bi...</td>\n",
       "      <td>[politica, igual, negociar, empresarios, negoc...</td>\n",
       "    </tr>\n",
       "    <tr>\n",
       "      <th>4</th>\n",
       "      <td>0</td>\n",
       "      <td>Puigdemont: 'No sería ninguna tragedia una rep...</td>\n",
       "      <td>En una entrevista en El Punt Avui, el líder de...</td>\n",
       "      <td>puigdemont seria ninguna tragedia repeticion e...</td>\n",
       "      <td>entrevista punt avui lider jxcat desdramatizad...</td>\n",
       "      <td>[puigdemont, seria, ninguna, tragedia, repetic...</td>\n",
       "      <td>[entrevista, punt, avui, lider, jxcat, desdram...</td>\n",
       "    </tr>\n",
       "  </tbody>\n",
       "</table>\n",
       "</div>"
      ],
      "text/plain": [
       "   Label                                             Titulo  \\\n",
       "0      1  'The Guardian' va con Sánchez: 'Europa necesit...   \n",
       "1      0  REVELAN QUE EL GOBIERNO NEGOCIO LA LIBERACIÓN ...   \n",
       "2      1  El 'Ahora o nunca' de Joan Fuster sobre el est...   \n",
       "3      1  Iglesias alienta a Yolanda Díaz, ERC y EH Bild...   \n",
       "4      0  Puigdemont: 'No sería ninguna tragedia una rep...   \n",
       "\n",
       "                                         Descripcion  \\\n",
       "0  El diario británico publicó este pasado jueves...   \n",
       "1  REVELAN QUE EL GOBIERNO NEGOCIO LA LIBERACIÓN ...   \n",
       "2  El valencianismo convoca en Castelló su fiesta...   \n",
       "3  En política, igual que hay que negociar con lo...   \n",
       "4  En una entrevista en El Punt Avui, el líder de...   \n",
       "\n",
       "                                       Titulo_Limpio  \\\n",
       "0  the guardian va sanchez europa necesita apuest...   \n",
       "1  revelan gobierno negocio liberacion mireles ca...   \n",
       "2  ahora nunca joan fuster estatuto valenciano cu...   \n",
       "3  iglesias alienta yolanda diaz erc eh bildu neg...   \n",
       "4  puigdemont seria ninguna tragedia repeticion e...   \n",
       "\n",
       "                                  Descripcion_Limpia  \\\n",
       "0  diario britanico publico pasado jueves editori...   \n",
       "1  revelan gobierno negocio liberacion mireles ca...   \n",
       "2  valencianismo convoca castello fiesta grande c...   \n",
       "3  politica igual negociar empresarios negociar g...   \n",
       "4  entrevista punt avui lider jxcat desdramatizad...   \n",
       "\n",
       "                                       Titulo_Tokens  \\\n",
       "0  [the, guardian, va, sanchez, europa, necesita,...   \n",
       "1  [revelan, gobierno, negocio, liberacion, mirel...   \n",
       "2  [ahora, nunca, joan, fuster, estatuto, valenci...   \n",
       "3  [iglesias, alienta, yolanda, diaz, erc, eh, bi...   \n",
       "4  [puigdemont, seria, ninguna, tragedia, repetic...   \n",
       "\n",
       "                                  Descripcion_Tokens  \n",
       "0  [diario, britanico, publico, pasado, jueves, e...  \n",
       "1  [revelan, gobierno, negocio, liberacion, mirel...  \n",
       "2  [valencianismo, convoca, castello, fiesta, gra...  \n",
       "3  [politica, igual, negociar, empresarios, negoc...  \n",
       "4  [entrevista, punt, avui, lider, jxcat, desdram...  "
      ]
     },
     "execution_count": 96,
     "metadata": {},
     "output_type": "execute_result"
    }
   ],
   "source": [
    "def tokenize_nltk(text):\n",
    "    return word_tokenize(text, language=\"spanish\")\n",
    "\n",
    "# Aplicar tokenización en las columnas ya limpias\n",
    "news_df['Titulo_Tokens'] = news_df['Titulo_Limpio'].astype(str).apply(tokenize_nltk)\n",
    "news_df['Descripcion_Tokens'] = news_df['Descripcion_Limpia'].astype(str).apply(tokenize_nltk)\n",
    "\n",
    "# Mostrar ejemplos\n",
    "print(\"Comparación después de la tokenización:\")\n",
    "news_df.head()\n",
    "\n"
   ]
  },
  {
   "cell_type": "markdown",
   "metadata": {},
   "source": [
    "### 3.3. Lematización\n",
    "\n",
    "Este código realiza la normalización del texto aplicando técnicas de stemming y lemmatización. La normalización se aplica a las columnas del DataFrame (Titulo_Tokens y Descripcion_Tokens), generando nuevas columnas Titulo_Normalizado y Descripcion_Normalizada, donde cada palabra es reducida a su raíz. Este paso es fundamental porque mejora la consistencia del texto y facilita el procesamiento de datos en modelos de análisis de texto."
   ]
  },
  {
   "cell_type": "code",
   "execution_count": 97,
   "metadata": {},
   "outputs": [
    {
     "name": "stdout",
     "output_type": "stream",
     "text": [
      "Comparación después de la normalización:\n"
     ]
    },
    {
     "data": {
      "text/html": [
       "<div>\n",
       "<style scoped>\n",
       "    .dataframe tbody tr th:only-of-type {\n",
       "        vertical-align: middle;\n",
       "    }\n",
       "\n",
       "    .dataframe tbody tr th {\n",
       "        vertical-align: top;\n",
       "    }\n",
       "\n",
       "    .dataframe thead th {\n",
       "        text-align: right;\n",
       "    }\n",
       "</style>\n",
       "<table border=\"1\" class=\"dataframe\">\n",
       "  <thead>\n",
       "    <tr style=\"text-align: right;\">\n",
       "      <th></th>\n",
       "      <th>Label</th>\n",
       "      <th>Titulo</th>\n",
       "      <th>Descripcion</th>\n",
       "      <th>Titulo_Limpio</th>\n",
       "      <th>Descripcion_Limpia</th>\n",
       "      <th>Titulo_Tokens</th>\n",
       "      <th>Descripcion_Tokens</th>\n",
       "      <th>Titulo_Normalizado</th>\n",
       "      <th>Descripcion_Normalizada</th>\n",
       "    </tr>\n",
       "  </thead>\n",
       "  <tbody>\n",
       "    <tr>\n",
       "      <th>0</th>\n",
       "      <td>1</td>\n",
       "      <td>'The Guardian' va con Sánchez: 'Europa necesit...</td>\n",
       "      <td>El diario británico publicó este pasado jueves...</td>\n",
       "      <td>the guardian va sanchez europa necesita apuest...</td>\n",
       "      <td>diario britanico publico pasado jueves editori...</td>\n",
       "      <td>[the, guardian, va, sanchez, europa, necesita,...</td>\n",
       "      <td>[diario, britanico, publico, pasado, jueves, e...</td>\n",
       "      <td>[europ, the, frut, apuesta, va, necesit, europ...</td>\n",
       "      <td>[ultraderech, adelanto, alerte, 23j, ultradere...</td>\n",
       "    </tr>\n",
       "    <tr>\n",
       "      <th>1</th>\n",
       "      <td>0</td>\n",
       "      <td>REVELAN QUE EL GOBIERNO NEGOCIO LA LIBERACIÓN ...</td>\n",
       "      <td>REVELAN QUE EL GOBIERNO NEGOCIO LA LIBERACIÓN ...</td>\n",
       "      <td>revelan gobierno negocio liberacion mireles ca...</td>\n",
       "      <td>revelan gobierno negocio liberacion mireles ca...</td>\n",
       "      <td>[revelan, gobierno, negocio, liberacion, mirel...</td>\n",
       "      <td>[revelan, gobierno, negocio, liberacion, mirel...</td>\n",
       "      <td>[otorg, negoci, revelan, gobiern, cambi, liber...</td>\n",
       "      <td>[crear, declar, siempre, cambi, tendra, pud, i...</td>\n",
       "    </tr>\n",
       "    <tr>\n",
       "      <th>2</th>\n",
       "      <td>1</td>\n",
       "      <td>El 'Ahora o nunca' de Joan Fuster sobre el est...</td>\n",
       "      <td>El valencianismo convoca en Castelló su fiesta...</td>\n",
       "      <td>ahora nunca joan fuster estatuto valenciano cu...</td>\n",
       "      <td>valencianismo convoca castello fiesta grande c...</td>\n",
       "      <td>[ahora, nunca, joan, fuster, estatuto, valenci...</td>\n",
       "      <td>[valencianismo, convoca, castello, fiesta, gra...</td>\n",
       "      <td>[estatuto, fuster, nunc, valencian, cumpl, ano...</td>\n",
       "      <td>[convoca, grand, valencian, aplec, plan, plen,...</td>\n",
       "    </tr>\n",
       "    <tr>\n",
       "      <th>3</th>\n",
       "      <td>1</td>\n",
       "      <td>Iglesias alienta a Yolanda Díaz, ERC y EH Bild...</td>\n",
       "      <td>En política, igual que hay que negociar con lo...</td>\n",
       "      <td>iglesias alienta yolanda diaz erc eh bildu neg...</td>\n",
       "      <td>politica igual negociar empresarios negociar g...</td>\n",
       "      <td>[iglesias, alienta, yolanda, diaz, erc, eh, bi...</td>\n",
       "      <td>[politica, igual, negociar, empresarios, negoc...</td>\n",
       "      <td>[yolanda, bloque, alient, negoci, bloqu, erc, ...</td>\n",
       "      <td>[empresarios, parlamentarios, empresari, igual...</td>\n",
       "    </tr>\n",
       "    <tr>\n",
       "      <th>4</th>\n",
       "      <td>0</td>\n",
       "      <td>Puigdemont: 'No sería ninguna tragedia una rep...</td>\n",
       "      <td>En una entrevista en El Punt Avui, el líder de...</td>\n",
       "      <td>puigdemont seria ninguna tragedia repeticion e...</td>\n",
       "      <td>entrevista punt avui lider jxcat desdramatizad...</td>\n",
       "      <td>[puigdemont, seria, ninguna, tragedia, repetic...</td>\n",
       "      <td>[entrevista, punt, avui, lider, jxcat, desdram...</td>\n",
       "      <td>[eleccion, ningun, repeticion, elecciones, tra...</td>\n",
       "      <td>[lid, desdramatiz, ege, acabe, avui, punt, lid...</td>\n",
       "    </tr>\n",
       "  </tbody>\n",
       "</table>\n",
       "</div>"
      ],
      "text/plain": [
       "   Label                                             Titulo  \\\n",
       "0      1  'The Guardian' va con Sánchez: 'Europa necesit...   \n",
       "1      0  REVELAN QUE EL GOBIERNO NEGOCIO LA LIBERACIÓN ...   \n",
       "2      1  El 'Ahora o nunca' de Joan Fuster sobre el est...   \n",
       "3      1  Iglesias alienta a Yolanda Díaz, ERC y EH Bild...   \n",
       "4      0  Puigdemont: 'No sería ninguna tragedia una rep...   \n",
       "\n",
       "                                         Descripcion  \\\n",
       "0  El diario británico publicó este pasado jueves...   \n",
       "1  REVELAN QUE EL GOBIERNO NEGOCIO LA LIBERACIÓN ...   \n",
       "2  El valencianismo convoca en Castelló su fiesta...   \n",
       "3  En política, igual que hay que negociar con lo...   \n",
       "4  En una entrevista en El Punt Avui, el líder de...   \n",
       "\n",
       "                                       Titulo_Limpio  \\\n",
       "0  the guardian va sanchez europa necesita apuest...   \n",
       "1  revelan gobierno negocio liberacion mireles ca...   \n",
       "2  ahora nunca joan fuster estatuto valenciano cu...   \n",
       "3  iglesias alienta yolanda diaz erc eh bildu neg...   \n",
       "4  puigdemont seria ninguna tragedia repeticion e...   \n",
       "\n",
       "                                  Descripcion_Limpia  \\\n",
       "0  diario britanico publico pasado jueves editori...   \n",
       "1  revelan gobierno negocio liberacion mireles ca...   \n",
       "2  valencianismo convoca castello fiesta grande c...   \n",
       "3  politica igual negociar empresarios negociar g...   \n",
       "4  entrevista punt avui lider jxcat desdramatizad...   \n",
       "\n",
       "                                       Titulo_Tokens  \\\n",
       "0  [the, guardian, va, sanchez, europa, necesita,...   \n",
       "1  [revelan, gobierno, negocio, liberacion, mirel...   \n",
       "2  [ahora, nunca, joan, fuster, estatuto, valenci...   \n",
       "3  [iglesias, alienta, yolanda, diaz, erc, eh, bi...   \n",
       "4  [puigdemont, seria, ninguna, tragedia, repetic...   \n",
       "\n",
       "                                  Descripcion_Tokens  \\\n",
       "0  [diario, britanico, publico, pasado, jueves, e...   \n",
       "1  [revelan, gobierno, negocio, liberacion, mirel...   \n",
       "2  [valencianismo, convoca, castello, fiesta, gra...   \n",
       "3  [politica, igual, negociar, empresarios, negoc...   \n",
       "4  [entrevista, punt, avui, lider, jxcat, desdram...   \n",
       "\n",
       "                                  Titulo_Normalizado  \\\n",
       "0  [europ, the, frut, apuesta, va, necesit, europ...   \n",
       "1  [otorg, negoci, revelan, gobiern, cambi, liber...   \n",
       "2  [estatuto, fuster, nunc, valencian, cumpl, ano...   \n",
       "3  [yolanda, bloque, alient, negoci, bloqu, erc, ...   \n",
       "4  [eleccion, ningun, repeticion, elecciones, tra...   \n",
       "\n",
       "                             Descripcion_Normalizada  \n",
       "0  [ultraderech, adelanto, alerte, 23j, ultradere...  \n",
       "1  [crear, declar, siempre, cambi, tendra, pud, i...  \n",
       "2  [convoca, grand, valencian, aplec, plan, plen,...  \n",
       "3  [empresarios, parlamentarios, empresari, igual...  \n",
       "4  [lid, desdramatiz, ege, acabe, avui, punt, lid...  "
      ]
     },
     "execution_count": 97,
     "metadata": {},
     "output_type": "execute_result"
    }
   ],
   "source": [
    "\n",
    "\n",
    "# Descargar recursos necesarios para lematización\n",
    "#nltk.download('wordnet')\n",
    "#nltk.download('omw-1.4')\n",
    "\n",
    "# Crear los objetos para stemming y lematización\n",
    "stemmer = SnowballStemmer(\"spanish\")\n",
    "lemmatizer = WordNetLemmatizer()\n",
    "\n",
    "def stem_words(words):\n",
    "    \"\"\"Aplica stemming para eliminar prefijos y sufijos en las palabras\"\"\"\n",
    "    return [stemmer.stem(word) for word in words]\n",
    "\n",
    "def lemmatize_verbs(words):\n",
    "    \"\"\"Aplica lematización para obtener la raíz de los verbos\"\"\"\n",
    "    return [lemmatizer.lemmatize(word, wordnet.VERB) for word in words]\n",
    "\n",
    "def stem_and_lemmatize(words):\n",
    "    \"\"\"Combina stemming y lematización para normalizar los datos\"\"\"\n",
    "    stemmed = stem_words(words)\n",
    "    lemmatized = lemmatize_verbs(words)\n",
    "    return list(set(stemmed + lemmatized))  # Se usa set() para evitar duplicados\n",
    "\n",
    "# Aplicar normalización a las columnas tokenizadas\n",
    "news_df['Titulo_Normalizado'] = news_df['Titulo_Tokens'].apply(stem_and_lemmatize)\n",
    "news_df['Descripcion_Normalizada'] = news_df['Descripcion_Tokens'].apply(stem_and_lemmatize)\n",
    "\n",
    "# Mostrar ejemplos\n",
    "print(\"Comparación después de la normalización:\")\n",
    "news_df.head()\n"
   ]
  },
  {
   "cell_type": "markdown",
   "metadata": {},
   "source": [
    "Se mostrarán solamente: Los tokens del título, los tokens de la descripción, el titulo normalizado y la descripción normalizada."
   ]
  },
  {
   "cell_type": "code",
   "execution_count": 98,
   "metadata": {},
   "outputs": [
    {
     "data": {
      "text/html": [
       "<div>\n",
       "<style scoped>\n",
       "    .dataframe tbody tr th:only-of-type {\n",
       "        vertical-align: middle;\n",
       "    }\n",
       "\n",
       "    .dataframe tbody tr th {\n",
       "        vertical-align: top;\n",
       "    }\n",
       "\n",
       "    .dataframe thead th {\n",
       "        text-align: right;\n",
       "    }\n",
       "</style>\n",
       "<table border=\"1\" class=\"dataframe\">\n",
       "  <thead>\n",
       "    <tr style=\"text-align: right;\">\n",
       "      <th></th>\n",
       "      <th>Label</th>\n",
       "      <th>Titulo_Tokens</th>\n",
       "      <th>Descripcion_Tokens</th>\n",
       "      <th>Titulo_Normalizado</th>\n",
       "      <th>Descripcion_Normalizada</th>\n",
       "    </tr>\n",
       "  </thead>\n",
       "  <tbody>\n",
       "    <tr>\n",
       "      <th>0</th>\n",
       "      <td>1</td>\n",
       "      <td>[the, guardian, va, sanchez, europa, necesita,...</td>\n",
       "      <td>[diario, britanico, publico, pasado, jueves, e...</td>\n",
       "      <td>[europ, the, frut, apuesta, va, necesit, europ...</td>\n",
       "      <td>[ultraderech, adelanto, alerte, 23j, ultradere...</td>\n",
       "    </tr>\n",
       "    <tr>\n",
       "      <th>1</th>\n",
       "      <td>0</td>\n",
       "      <td>[revelan, gobierno, negocio, liberacion, mirel...</td>\n",
       "      <td>[revelan, gobierno, negocio, liberacion, mirel...</td>\n",
       "      <td>[otorg, negoci, revelan, gobiern, cambi, liber...</td>\n",
       "      <td>[crear, declar, siempre, cambi, tendra, pud, i...</td>\n",
       "    </tr>\n",
       "    <tr>\n",
       "      <th>2</th>\n",
       "      <td>1</td>\n",
       "      <td>[ahora, nunca, joan, fuster, estatuto, valenci...</td>\n",
       "      <td>[valencianismo, convoca, castello, fiesta, gra...</td>\n",
       "      <td>[estatuto, fuster, nunc, valencian, cumpl, ano...</td>\n",
       "      <td>[convoca, grand, valencian, aplec, plan, plen,...</td>\n",
       "    </tr>\n",
       "    <tr>\n",
       "      <th>3</th>\n",
       "      <td>1</td>\n",
       "      <td>[iglesias, alienta, yolanda, diaz, erc, eh, bi...</td>\n",
       "      <td>[politica, igual, negociar, empresarios, negoc...</td>\n",
       "      <td>[yolanda, bloque, alient, negoci, bloqu, erc, ...</td>\n",
       "      <td>[empresarios, parlamentarios, empresari, igual...</td>\n",
       "    </tr>\n",
       "    <tr>\n",
       "      <th>4</th>\n",
       "      <td>0</td>\n",
       "      <td>[puigdemont, seria, ninguna, tragedia, repetic...</td>\n",
       "      <td>[entrevista, punt, avui, lider, jxcat, desdram...</td>\n",
       "      <td>[eleccion, ningun, repeticion, elecciones, tra...</td>\n",
       "      <td>[lid, desdramatiz, ege, acabe, avui, punt, lid...</td>\n",
       "    </tr>\n",
       "  </tbody>\n",
       "</table>\n",
       "</div>"
      ],
      "text/plain": [
       "   Label                                      Titulo_Tokens  \\\n",
       "0      1  [the, guardian, va, sanchez, europa, necesita,...   \n",
       "1      0  [revelan, gobierno, negocio, liberacion, mirel...   \n",
       "2      1  [ahora, nunca, joan, fuster, estatuto, valenci...   \n",
       "3      1  [iglesias, alienta, yolanda, diaz, erc, eh, bi...   \n",
       "4      0  [puigdemont, seria, ninguna, tragedia, repetic...   \n",
       "\n",
       "                                  Descripcion_Tokens  \\\n",
       "0  [diario, britanico, publico, pasado, jueves, e...   \n",
       "1  [revelan, gobierno, negocio, liberacion, mirel...   \n",
       "2  [valencianismo, convoca, castello, fiesta, gra...   \n",
       "3  [politica, igual, negociar, empresarios, negoc...   \n",
       "4  [entrevista, punt, avui, lider, jxcat, desdram...   \n",
       "\n",
       "                                  Titulo_Normalizado  \\\n",
       "0  [europ, the, frut, apuesta, va, necesit, europ...   \n",
       "1  [otorg, negoci, revelan, gobiern, cambi, liber...   \n",
       "2  [estatuto, fuster, nunc, valencian, cumpl, ano...   \n",
       "3  [yolanda, bloque, alient, negoci, bloqu, erc, ...   \n",
       "4  [eleccion, ningun, repeticion, elecciones, tra...   \n",
       "\n",
       "                             Descripcion_Normalizada  \n",
       "0  [ultraderech, adelanto, alerte, 23j, ultradere...  \n",
       "1  [crear, declar, siempre, cambi, tendra, pud, i...  \n",
       "2  [convoca, grand, valencian, aplec, plan, plen,...  \n",
       "3  [empresarios, parlamentarios, empresari, igual...  \n",
       "4  [lid, desdramatiz, ege, acabe, avui, punt, lid...  "
      ]
     },
     "execution_count": 98,
     "metadata": {},
     "output_type": "execute_result"
    }
   ],
   "source": [
    "processed_df = news_df[['Label', 'Titulo_Tokens', 'Descripcion_Tokens', 'Titulo_Normalizado', 'Descripcion_Normalizada']]\n",
    "processed_df.head()"
   ]
  },
  {
   "cell_type": "markdown",
   "metadata": {},
   "source": [
    "Ahora unificaremos los titulos y las descripciones normalizadas."
   ]
  },
  {
   "cell_type": "code",
   "execution_count": 99,
   "metadata": {},
   "outputs": [
    {
     "data": {
      "text/html": [
       "<div>\n",
       "<style scoped>\n",
       "    .dataframe tbody tr th:only-of-type {\n",
       "        vertical-align: middle;\n",
       "    }\n",
       "\n",
       "    .dataframe tbody tr th {\n",
       "        vertical-align: top;\n",
       "    }\n",
       "\n",
       "    .dataframe thead th {\n",
       "        text-align: right;\n",
       "    }\n",
       "</style>\n",
       "<table border=\"1\" class=\"dataframe\">\n",
       "  <thead>\n",
       "    <tr style=\"text-align: right;\">\n",
       "      <th></th>\n",
       "      <th>Label</th>\n",
       "      <th>Titulo_Tokens</th>\n",
       "      <th>Descripcion_Tokens</th>\n",
       "      <th>Titulo_Normalizado</th>\n",
       "      <th>Descripcion_Normalizada</th>\n",
       "    </tr>\n",
       "  </thead>\n",
       "  <tbody>\n",
       "    <tr>\n",
       "      <th>0</th>\n",
       "      <td>1</td>\n",
       "      <td>[the, guardian, va, sanchez, europa, necesita,...</td>\n",
       "      <td>[diario, britanico, publico, pasado, jueves, e...</td>\n",
       "      <td>europ the frut apuesta va necesit europa guard...</td>\n",
       "      <td>ultraderech adelanto alerte 23j ultraderecha a...</td>\n",
       "    </tr>\n",
       "    <tr>\n",
       "      <th>1</th>\n",
       "      <td>0</td>\n",
       "      <td>[revelan, gobierno, negocio, liberacion, mirel...</td>\n",
       "      <td>[revelan, gobierno, negocio, liberacion, mirel...</td>\n",
       "      <td>otorg negoci revelan gobiern cambi liber javie...</td>\n",
       "      <td>crear declar siempre cambi tendra pud inconceb...</td>\n",
       "    </tr>\n",
       "    <tr>\n",
       "      <th>2</th>\n",
       "      <td>1</td>\n",
       "      <td>[ahora, nunca, joan, fuster, estatuto, valenci...</td>\n",
       "      <td>[valencianismo, convoca, castello, fiesta, gra...</td>\n",
       "      <td>estatuto fuster nunc valencian cumpl anos ahor...</td>\n",
       "      <td>convoca grand valencian aplec plan plen castel...</td>\n",
       "    </tr>\n",
       "    <tr>\n",
       "      <th>3</th>\n",
       "      <td>1</td>\n",
       "      <td>[iglesias, alienta, yolanda, diaz, erc, eh, bi...</td>\n",
       "      <td>[politica, igual, negociar, empresarios, negoc...</td>\n",
       "      <td>yolanda bloque alient negoci bloqu erc bildu i...</td>\n",
       "      <td>empresarios parlamentarios empresari igual neg...</td>\n",
       "    </tr>\n",
       "    <tr>\n",
       "      <th>4</th>\n",
       "      <td>0</td>\n",
       "      <td>[puigdemont, seria, ninguna, tragedia, repetic...</td>\n",
       "      <td>[entrevista, punt, avui, lider, jxcat, desdram...</td>\n",
       "      <td>eleccion ningun repeticion elecciones tragedia...</td>\n",
       "      <td>lid desdramatiz ege acabe avui punt lider aboc...</td>\n",
       "    </tr>\n",
       "  </tbody>\n",
       "</table>\n",
       "</div>"
      ],
      "text/plain": [
       "   Label                                      Titulo_Tokens  \\\n",
       "0      1  [the, guardian, va, sanchez, europa, necesita,...   \n",
       "1      0  [revelan, gobierno, negocio, liberacion, mirel...   \n",
       "2      1  [ahora, nunca, joan, fuster, estatuto, valenci...   \n",
       "3      1  [iglesias, alienta, yolanda, diaz, erc, eh, bi...   \n",
       "4      0  [puigdemont, seria, ninguna, tragedia, repetic...   \n",
       "\n",
       "                                  Descripcion_Tokens  \\\n",
       "0  [diario, britanico, publico, pasado, jueves, e...   \n",
       "1  [revelan, gobierno, negocio, liberacion, mirel...   \n",
       "2  [valencianismo, convoca, castello, fiesta, gra...   \n",
       "3  [politica, igual, negociar, empresarios, negoc...   \n",
       "4  [entrevista, punt, avui, lider, jxcat, desdram...   \n",
       "\n",
       "                                  Titulo_Normalizado  \\\n",
       "0  europ the frut apuesta va necesit europa guard...   \n",
       "1  otorg negoci revelan gobiern cambi liber javie...   \n",
       "2  estatuto fuster nunc valencian cumpl anos ahor...   \n",
       "3  yolanda bloque alient negoci bloqu erc bildu i...   \n",
       "4  eleccion ningun repeticion elecciones tragedia...   \n",
       "\n",
       "                             Descripcion_Normalizada  \n",
       "0  ultraderech adelanto alerte 23j ultraderecha a...  \n",
       "1  crear declar siempre cambi tendra pud inconceb...  \n",
       "2  convoca grand valencian aplec plan plen castel...  \n",
       "3  empresarios parlamentarios empresari igual neg...  \n",
       "4  lid desdramatiz ege acabe avui punt lider aboc...  "
      ]
     },
     "execution_count": 99,
     "metadata": {},
     "output_type": "execute_result"
    }
   ],
   "source": [
    "# Hacer copia del dataframe procesado\n",
    "processed_news_df = processed_df.copy()\n",
    "\n",
    "# Convertir las listas de palabras en texto separado por espacios en las columnas Titulo_Normalizado y Descripcion_Normalizada\n",
    "processed_news_df['Titulo_Normalizado'] = processed_news_df['Titulo_Normalizado'].apply(lambda tokens: \" \".join(tokens))\n",
    "processed_news_df['Descripcion_Normalizada'] = processed_news_df['Descripcion_Normalizada'].apply(lambda tokens: \" \".join(tokens))\n",
    "\n",
    "# Mostrar algunos ejemplos para verificar el cambio\n",
    "processed_news_df.head()"
   ]
  },
  {
   "cell_type": "markdown",
   "metadata": {},
   "source": [
    "## 4. Construcción de Modelos"
   ]
  },
  {
   "cell_type": "markdown",
   "metadata": {},
   "source": [
    "Como los datos que tenemos son datos de texto, debemos de alguna maner convertir estos datos en valores interpretables por el modelo para generar información relevante que podamos interpretar. En este caso, usaremos a nuestro favor la **vectorización de texto** a partir del método TF-IDF ya que es una opción balanceada entre simplicidad y efectividad. La idea es convertir los textos de 'Titulo_Normalizado' y 'Descripcion_Normalizada' en vectores numéricos usando TF-IDF y luego usarlos para entrenar un modelo de clasificación. "
   ]
  },
  {
   "cell_type": "markdown",
   "metadata": {},
   "source": [
    "#### 4.1 Transformación TF-IDF"
   ]
  },
  {
   "cell_type": "code",
   "execution_count": 100,
   "metadata": {},
   "outputs": [
    {
     "name": "stdout",
     "output_type": "stream",
     "text": [
      "Dimensión de la matriz de características X: (57063, 33273)\n",
      "Dimensión de la variable objetivo y: (57063,)\n"
     ]
    }
   ],
   "source": [
    "# Definimos el vectorizador TF-IDF\n",
    "vectorizer = TfidfVectorizer()  # Limitamos el número de características para evitar alta dimensionalidad\n",
    "\n",
    "# Aplicamos la transformación TF-IDF a las columnas normalizadas\n",
    "titulo_tfidf = vectorizer.fit_transform(processed_news_df['Titulo_Normalizado'])\n",
    "# descripcion_tfidf = vectorizer.fit_transform(processed_news_df['Descripcion_Normalizada'])\n",
    "\n",
    "# Titulos vectorizados\n",
    "X = titulo_tfidf\n",
    "# Definimos la variable objetivo\n",
    "y = processed_news_df['Label']\n",
    "\n",
    "# Mostramos la forma de la matriz final\n",
    "print(\"Dimensión de la matriz de características X:\", X.shape)\n",
    "print(\"Dimensión de la variable objetivo y:\", y.shape)"
   ]
  },
  {
   "cell_type": "markdown",
   "metadata": {},
   "source": [
    "#### 4.2 Entrenamiento del primer modelo de clasificación - Regresión Logística"
   ]
  },
  {
   "cell_type": "markdown",
   "metadata": {},
   "source": [
    "Utilizaremos un modelo clásico de Regresión Logística, ya que es simple, eficiente y suele funcionar bien en tareas de clasificación de texto."
   ]
  },
  {
   "cell_type": "code",
   "execution_count": 101,
   "metadata": {},
   "outputs": [],
   "source": [
    "# Dividimos los datos en entrenamiento (80%) y prueba (20%)\n",
    "X_train, X_test, y_train, y_test = train_test_split(X, y, test_size=0.2, random_state=42, stratify=y)\n",
    "\n",
    "# Inicializamos y entrenamos el modelo de Regresión Logística\n",
    "modelo = LogisticRegression(max_iter=500)  # Aumentamos las iteraciones para asegurar convergencia\n",
    "modelo.fit(X_train, y_train)\n",
    "\n",
    "# Hacemos predicciones sobre el conjunto de prueba\n",
    "y_pred = modelo.predict(X_test)\n",
    "\n",
    "# Evaluamos el modelo con una matriz de confusión y métricas de desempeño\n",
    "conf_matrix = confusion_matrix(y_test, y_pred)\n",
    "accuracy = accuracy_score(y_test, y_pred)\n",
    "classification_rep = classification_report(y_test, y_pred)"
   ]
  },
  {
   "cell_type": "markdown",
   "metadata": {},
   "source": [
    "#### 4.3 Resultados de la Regresión Logística"
   ]
  },
  {
   "cell_type": "markdown",
   "metadata": {},
   "source": [
    "##### 4.3.1 Reporte de Clasificación"
   ]
  },
  {
   "cell_type": "code",
   "execution_count": 102,
   "metadata": {},
   "outputs": [
    {
     "name": "stdout",
     "output_type": "stream",
     "text": [
      "Exactitud: 0.83\n",
      "Recall: 0.9464716525934861\n",
      "Precisión: 0.8020700230002555\n",
      "Puntuación F1: 0.8683082030709641\n",
      "\n",
      "Reporte de Clasificación:\n",
      "              precision    recall  f1-score   support\n",
      "\n",
      "           0       0.90      0.68      0.77      4781\n",
      "           1       0.80      0.95      0.87      6632\n",
      "\n",
      "    accuracy                           0.83     11413\n",
      "   macro avg       0.85      0.81      0.82     11413\n",
      "weighted avg       0.84      0.83      0.83     11413\n",
      "\n"
     ]
    }
   ],
   "source": [
    "# Mostramos los resultados\n",
    "print('Exactitud: %.2f' % accuracy_score(y_test, y_pred))\n",
    "print(\"Recall: {}\".format(recall_score(y_test,y_pred)))\n",
    "print(\"Precisión: {}\".format(precision_score(y_test,y_pred)))\n",
    "print(\"Puntuación F1: {}\".format(f1_score(y_test,y_pred)))\n",
    "\n",
    "print(\"\\nReporte de Clasificación:\")\n",
    "print(classification_rep)"
   ]
  },
  {
   "cell_type": "markdown",
   "metadata": {},
   "source": [
    "**Análisis de Métricas**\n",
    "- **Exactitud:** El 83% de las noticias fueron clasificadas correctamente. Sin embargo, esta métrica no siempre refleja bien el rendimiento en problemas desbalanceados.\n",
    "\n",
    "- **Recall:** El 95% de las noticias verdaderas fueron correctamente identificadas como verdaderas. El 68% de las noticias falsas fueron correctamente identificadas como falsas. El problema principal es que el modelo no está detectando bien las noticias falsas (32% de error en recall para 0.)\n",
    "\n",
    "- **Presición:** El 80% de las noticias clasificadas como verdaderas realmente son verdaderas (lo cual indica que hay un error del 20%). el 90% de las noticias clasificadas como falsas realmente son falsas.\n",
    "\n",
    "- **Puntuación F1:** El modelo tiene un mejor desempeño en la detección de noticias verdaderas que en la detección de noticias falsas. Esto significa que el modelo puede pasar muchas noticias falsas como verdaderas (falsos negativos)."
   ]
  },
  {
   "cell_type": "markdown",
   "metadata": {},
   "source": [
    "##### 4.3.2 Matríz de Confusión"
   ]
  },
  {
   "cell_type": "code",
   "execution_count": 103,
   "metadata": {},
   "outputs": [],
   "source": [
    "cm = confusion_matrix(y_test, y_pred)"
   ]
  },
  {
   "cell_type": "code",
   "execution_count": 104,
   "metadata": {},
   "outputs": [
    {
     "data": {
      "image/png": "[encoded data removed]",
      "text/plain": [
       "<Figure size 1000x500 with 2 Axes>"
      ]
     },
     "metadata": {},
     "output_type": "display_data"
    }
   ],
   "source": [
    "disp = ConfusionMatrixDisplay(confusion_matrix=cm, display_labels=modelo.classes_)\n",
    "disp.plot(cmap=plt.cm.Blues)\n",
    "\n",
    "plt.show()"
   ]
  },
  {
   "cell_type": "markdown",
   "metadata": {},
   "source": [
    "**Explicación de los valores del modelo**\n",
    "\n",
    "- **Verdaderos Negativos (3232):** Noticias falsas *correctamente* identificadas como falsas.\n",
    "\n",
    "- **Falsos Negativos (1549):** Noticias falsas clasificadad *incorrectamente* como verdaderas.\n",
    "\n",
    "- **Falsos Positivos (355):** Noticias falsas clasificadas *incorrectamente* como verdaderas.\n",
    "\n",
    "- **Verdaderos Positivos (6277):** Noticias verdaderas *correctamente* identificadas como verdaderas."
   ]
  },
  {
   "cell_type": "markdown",
   "metadata": {},
   "source": [
    "##### 4.3.3 Conclusiones iniciales\n",
    "\n",
    "1. El modelo es confiable para detectar noticias verdaderas (95% recall), pero tiene problemas a la hora de detectar noticias falsas (solo 68% de recall).\n",
    "\n",
    "2. El principal problema son los falsos negativos (1,549 noticias falsas clasificadas erróneamente como verdaderas).\n",
    "\n",
    "3. Si el objetivo es detectar la mayor cantidad posible de noticias falsas, el modelo debe ser ajustado para mejorar su recall."
   ]
  }
 ],
 "metadata": {
  "kernelspec": {
   "display_name": "Python 3",
   "language": "python",
   "name": "python3"
  },
  "language_info": {
   "codemirror_mode": {
    "name": "ipython",
    "version": 3
   },
   "file_extension": ".py",
   "mimetype": "text/x-python",
   "name": "python",
   "nbconvert_exporter": "python",
   "pygments_lexer": "ipython3",
   "version": "3.11.9"
  }
 },
 "nbformat": 4,
 "nbformat_minor": 2
}
